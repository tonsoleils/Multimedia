{
  "nbformat": 4,
  "nbformat_minor": 0,
  "metadata": {
    "colab": {
      "provenance": []
    },
    "kernelspec": {
      "name": "python3",
      "display_name": "Python 3"
    },
    "language_info": {
      "name": "python"
    }
  },
  "cells": [
    {
      "cell_type": "markdown",
      "source": [
        "Шумилова А.А. М8О-407Б-21\n",
        "\n",
        "# Выбор датасета\n",
        "\n",
        "Мной был выбран датасет \"[Spotify Tracks Dataset (Updated every week)](https://www.kaggle.com/datasets/gauthamvijayaraj/spotify-tracks-dataset-updated-every-week)\".\n",
        "\n",
        "Описание датасета:\n",
        "\n",
        "**Column Description**\n",
        "- track_id: Spotify ID for the track.\n",
        "- track_name: Name of the track.\n",
        "- artist_name: The names of artists who performed the track, separated by commas if there are multiple artists.\n",
        "- year: The release year of the track.\n",
        "- popularity: A value between 0 and 100 indicating how popular a track is based on plays and recency.\n",
        "- artwork_url: URL of the album or track's artwork.\n",
        "- album_name: The album in which the track appears.\n",
        "- acousticness: A confidence measure from 0.0 to 1.0 of whether the track is acoustic.\n",
        "- danceability: A measure of how suitable a track is for dancing (0.0 = least danceable, 1.0 = most danceable).\n",
        "- duration_ms: Track length in milliseconds.\n",
        "- energy: A perceptual measure from 0.0 to 1.0 of intensity and activity.\n",
        "- key: The musical key of the track, using standard pitch class notation (e.g., 0 = C, 1 = C♯/D♭).\n",
        "- liveness: A measure of the likelihood that the track was recorded live (higher values indicate live performances).\n",
        "- loudness: The overall loudness of the track in decibels (dB).\n",
        "- mode: Indicates the modality of the track (1 = major, 0 = minor).\n",
        "- speechiness: Measures the presence of spoken words in a track (closer to 1.0 indicates more speech-like content).\n",
        "- tempo: The estimated tempo of the track in beats per minute (BPM).\n",
        "- time_signature: The number of beats per measure, ranging from 3 to 7.\n",
        "- valence: A measure from 0.0 to 1.0 indicating the track's musical positiveness (higher values are happier).\n",
        "- track_url: The Spotify URL for the track.\n",
        "- language: The language of the track (English, Tamil, Hindi, Telugu, Malayalam, Korean).\n",
        "\n",
        "а) Классификация: Предсказание языка трека (language) на основе таких характеристик, как:\n",
        "- danceability\n",
        "- energy\n",
        "- speechiness\n",
        "- acousticness\n",
        "- tempo\n",
        "- valence\n",
        "- liveness\n",
        "\n",
        "**Обоснование:**\n",
        "\n",
        "Язык трека может быть важен для рекомендаций пользователям, которые предпочитают музыку на определённом языке. Используемые признаки, такие как speechiness и acousticness, напрямую связаны с особенностями звучания треков на разных языках.\n",
        "\n",
        "b) Регрессия: Предсказание популярности трека (popularity) на основе таких характеристик, как:\n",
        "- danceability\n",
        "- energy\n",
        "- speechiness\n",
        "- acousticness\n",
        "- tempo\n",
        "- valence\n",
        "- liveness\n",
        "- duration_ms\n",
        "\n",
        "**Обоснование:**\n",
        "\n",
        "Популярность трека — важная метрика для музыкальных стриминговых сервисов, так как она определяет, какие треки продвигать. Используемые признаки влияют на восприятие трека пользователями."
      ],
      "metadata": {
        "id": "lrRs0AkLaaNj"
      }
    },
    {
      "cell_type": "markdown",
      "source": [
        "# Метрики\n",
        "Для классификации:\n",
        "- Accuracy (доля правильных предсказаний):\n",
        "Используется, так как у нас классификация с конечным числом категорий (language), и мы хотим оценить общую точность.\n",
        "- F1-Score (гармоническое среднее Precision и Recall):\n",
        "Выбираем, так как классы могут быть несбалансированы (например, треков на английском языке будет больше, чем на других).\n",
        "\n",
        "Для регрессии:\n",
        "- Mean Absolute Error (MAE):\n",
        "Простая и интерпретируемая метрика, измеряющая среднюю разницу между предсказанными и реальными значениями. Подходит, если важны средние ошибки независимо от их масштаба.\n",
        "- R² Score (коэффициент детерминации):\n",
        "Показывает, насколько хорошо модель объясняет дисперсию данных. Важно для оценки общей эффективности модели.\n",
        "\n"
      ],
      "metadata": {
        "id": "A1Ny6SGCb3V7"
      }
    },
    {
      "cell_type": "markdown",
      "source": [
        "# Лабораторная работа №1"
      ],
      "metadata": {
        "id": "2AIzimA_E65w"
      }
    },
    {
      "cell_type": "markdown",
      "source": [
        "# KNN\n",
        "\n",
        "### Установка и импорт библиотек"
      ],
      "metadata": {
        "id": "PZTUqUNXce9u"
      }
    },
    {
      "cell_type": "code",
      "execution_count": null,
      "metadata": {
        "id": "5CNTgiiEXJM2",
        "colab": {
          "base_uri": "https://localhost:8080/"
        },
        "outputId": "7ad118ea-e97b-4f04-98b1-7b3af93a7003"
      },
      "outputs": [
        {
          "output_type": "stream",
          "name": "stdout",
          "text": [
            "Requirement already satisfied: pandas in /usr/local/lib/python3.10/dist-packages (2.2.2)\n",
            "Requirement already satisfied: scikit-learn in /usr/local/lib/python3.10/dist-packages (1.6.0)\n",
            "Requirement already satisfied: matplotlib in /usr/local/lib/python3.10/dist-packages (3.8.0)\n",
            "Requirement already satisfied: seaborn in /usr/local/lib/python3.10/dist-packages (0.13.2)\n",
            "Requirement already satisfied: numpy>=1.22.4 in /usr/local/lib/python3.10/dist-packages (from pandas) (1.26.4)\n",
            "Requirement already satisfied: python-dateutil>=2.8.2 in /usr/local/lib/python3.10/dist-packages (from pandas) (2.8.2)\n",
            "Requirement already satisfied: pytz>=2020.1 in /usr/local/lib/python3.10/dist-packages (from pandas) (2024.2)\n",
            "Requirement already satisfied: tzdata>=2022.7 in /usr/local/lib/python3.10/dist-packages (from pandas) (2024.2)\n",
            "Requirement already satisfied: scipy>=1.6.0 in /usr/local/lib/python3.10/dist-packages (from scikit-learn) (1.13.1)\n",
            "Requirement already satisfied: joblib>=1.2.0 in /usr/local/lib/python3.10/dist-packages (from scikit-learn) (1.4.2)\n",
            "Requirement already satisfied: threadpoolctl>=3.1.0 in /usr/local/lib/python3.10/dist-packages (from scikit-learn) (3.5.0)\n",
            "Requirement already satisfied: contourpy>=1.0.1 in /usr/local/lib/python3.10/dist-packages (from matplotlib) (1.3.1)\n",
            "Requirement already satisfied: cycler>=0.10 in /usr/local/lib/python3.10/dist-packages (from matplotlib) (0.12.1)\n",
            "Requirement already satisfied: fonttools>=4.22.0 in /usr/local/lib/python3.10/dist-packages (from matplotlib) (4.55.3)\n",
            "Requirement already satisfied: kiwisolver>=1.0.1 in /usr/local/lib/python3.10/dist-packages (from matplotlib) (1.4.7)\n",
            "Requirement already satisfied: packaging>=20.0 in /usr/local/lib/python3.10/dist-packages (from matplotlib) (24.2)\n",
            "Requirement already satisfied: pillow>=6.2.0 in /usr/local/lib/python3.10/dist-packages (from matplotlib) (11.0.0)\n",
            "Requirement already satisfied: pyparsing>=2.3.1 in /usr/local/lib/python3.10/dist-packages (from matplotlib) (3.2.0)\n",
            "Requirement already satisfied: six>=1.5 in /usr/local/lib/python3.10/dist-packages (from python-dateutil>=2.8.2->pandas) (1.17.0)\n"
          ]
        }
      ],
      "source": [
        "!pip install pandas scikit-learn matplotlib seaborn"
      ]
    },
    {
      "cell_type": "code",
      "source": [
        "import pandas as pd\n",
        "import numpy as np\n",
        "from sklearn.model_selection import train_test_split\n",
        "from sklearn.metrics import accuracy_score, f1_score, mean_absolute_error, r2_score\n",
        "from sklearn.neighbors import KNeighborsClassifier, KNeighborsRegressor\n",
        "import matplotlib.pyplot as plt\n",
        "import seaborn as sns"
      ],
      "metadata": {
        "id": "IomwHSi3c7Nw"
      },
      "execution_count": null,
      "outputs": []
    },
    {
      "cell_type": "markdown",
      "source": [
        "### Загрузка данных"
      ],
      "metadata": {
        "id": "lNtr0TUadI4r"
      }
    },
    {
      "cell_type": "code",
      "source": [
        "data = pd.read_csv('spotify_tracks.csv')\n",
        "\n",
        "print(data.head())\n",
        "print(data.info())"
      ],
      "metadata": {
        "colab": {
          "base_uri": "https://localhost:8080/"
        },
        "id": "Oe0Ep7yddHss",
        "outputId": "07194f1e-5d0f-4555-bb53-7c6d84c4ff6e"
      },
      "execution_count": null,
      "outputs": [
        {
          "output_type": "stream",
          "name": "stdout",
          "text": [
            "                 track_id                                  track_name  \\\n",
            "0  2r0ROhr7pRN4MXDMT1fEmd                  Leo Das Entry (From \"Leo\")   \n",
            "1  4I38e6Dg52a2o2a8i5Q5PW                                AAO KILLELLE   \n",
            "2  59NoiRhnom3lTeRFaBzOev      Mayakiriye Sirikiriye - Orchestral EDM   \n",
            "3  5uUqRQd385pvLxC8JX3tXn    Scene Ah Scene Ah - Experimental EDM Mix   \n",
            "4  1KaBRg2xgNeCljmyxBH1mo  Gundellonaa X I Am A Disco Dancer - Mashup   \n",
            "\n",
            "                                         artist_name  year  popularity  \\\n",
            "0                                Anirudh Ravichander  2024          59   \n",
            "1  Anirudh Ravichander, Pravin Mani, Vaishali Sri...  2024          47   \n",
            "2           Anirudh Ravichander, Anivee, Alvin Bruno  2024          35   \n",
            "3  Anirudh Ravichander, Bharath Sankar, Kabilan, ...  2024          24   \n",
            "4  Anirudh Ravichander, Benny Dayal, Leon James, ...  2024          22   \n",
            "\n",
            "                                         artwork_url  \\\n",
            "0  https://i.scdn.co/image/ab67616d0000b273ce9c65...   \n",
            "1  https://i.scdn.co/image/ab67616d0000b273be1b03...   \n",
            "2  https://i.scdn.co/image/ab67616d0000b27334a1dd...   \n",
            "3  https://i.scdn.co/image/ab67616d0000b27332e623...   \n",
            "4  https://i.scdn.co/image/ab67616d0000b2735a59b6...   \n",
            "\n",
            "                                   album_name  acousticness  danceability  \\\n",
            "0                  Leo Das Entry (From \"Leo\")        0.0241         0.753   \n",
            "1                                AAO KILLELLE        0.0851         0.780   \n",
            "2      Mayakiriye Sirikiriye (Orchestral EDM)        0.0311         0.457   \n",
            "3    Scene Ah Scene Ah (Experimental EDM Mix)        0.2270         0.718   \n",
            "4  Gundellonaa X I Am a Disco Dancer (Mashup)        0.0153         0.689   \n",
            "\n",
            "   duration_ms  ...   key  liveness  loudness  mode  speechiness    tempo  \\\n",
            "0      97297.0  ...   8.0    0.1000    -5.994   0.0       0.1030  110.997   \n",
            "1     207369.0  ...  10.0    0.0951    -5.674   0.0       0.0952  164.995   \n",
            "2      82551.0  ...   2.0    0.0831    -8.937   0.0       0.1530  169.996   \n",
            "3     115831.0  ...   7.0    0.1240   -11.104   1.0       0.4450  169.996   \n",
            "4     129621.0  ...   7.0    0.3450    -9.637   1.0       0.1580  128.961   \n",
            "\n",
            "   time_signature  valence                                          track_url  \\\n",
            "0             4.0    0.459  https://open.spotify.com/track/2r0ROhr7pRN4MXD...   \n",
            "1             3.0    0.821  https://open.spotify.com/track/4I38e6Dg52a2o2a...   \n",
            "2             4.0    0.598  https://open.spotify.com/track/59NoiRhnom3lTeR...   \n",
            "3             4.0    0.362  https://open.spotify.com/track/5uUqRQd385pvLxC...   \n",
            "4             4.0    0.593  https://open.spotify.com/track/1KaBRg2xgNeCljm...   \n",
            "\n",
            "   language  \n",
            "0     Tamil  \n",
            "1     Tamil  \n",
            "2     Tamil  \n",
            "3     Tamil  \n",
            "4     Tamil  \n",
            "\n",
            "[5 rows x 22 columns]\n",
            "<class 'pandas.core.frame.DataFrame'>\n",
            "RangeIndex: 62317 entries, 0 to 62316\n",
            "Data columns (total 22 columns):\n",
            " #   Column            Non-Null Count  Dtype  \n",
            "---  ------            --------------  -----  \n",
            " 0   track_id          62317 non-null  object \n",
            " 1   track_name        62317 non-null  object \n",
            " 2   artist_name       62317 non-null  object \n",
            " 3   year              62317 non-null  int64  \n",
            " 4   popularity        62317 non-null  int64  \n",
            " 5   artwork_url       62317 non-null  object \n",
            " 6   album_name        62317 non-null  object \n",
            " 7   acousticness      62317 non-null  float64\n",
            " 8   danceability      62317 non-null  float64\n",
            " 9   duration_ms       62317 non-null  float64\n",
            " 10  energy            62317 non-null  float64\n",
            " 11  instrumentalness  62317 non-null  float64\n",
            " 12  key               62317 non-null  float64\n",
            " 13  liveness          62317 non-null  float64\n",
            " 14  loudness          62317 non-null  float64\n",
            " 15  mode              62317 non-null  float64\n",
            " 16  speechiness       62317 non-null  float64\n",
            " 17  tempo             62317 non-null  float64\n",
            " 18  time_signature    62317 non-null  float64\n",
            " 19  valence           62317 non-null  float64\n",
            " 20  track_url         62317 non-null  object \n",
            " 21  language          62317 non-null  object \n",
            "dtypes: float64(13), int64(2), object(7)\n",
            "memory usage: 10.5+ MB\n",
            "None\n"
          ]
        }
      ]
    },
    {
      "cell_type": "markdown",
      "source": [
        "### Предобработка данных"
      ],
      "metadata": {
        "id": "TIqybThWdU_j"
      }
    },
    {
      "cell_type": "markdown",
      "source": [
        "Классификация: выберем только те строки, где есть информация о language, и подготовим признаки для классификации."
      ],
      "metadata": {
        "id": "EBYE7OR7dW17"
      }
    },
    {
      "cell_type": "code",
      "source": [
        "classification_data = data[data['language'].notna()]\n",
        "\n",
        "X_classification = classification_data[['danceability', 'energy', 'speechiness',\n",
        "                                        'acousticness', 'tempo', 'valence', 'liveness']]\n",
        "y_classification = classification_data['language']\n",
        "\n",
        "X_train_cls, X_test_cls, y_train_cls, y_test_cls = train_test_split(X_classification, y_classification, test_size=0.3, random_state=42)"
      ],
      "metadata": {
        "id": "mBjFoj0odRuD"
      },
      "execution_count": null,
      "outputs": []
    },
    {
      "cell_type": "markdown",
      "source": [
        "Регрессия: предобработка для предсказания popularity."
      ],
      "metadata": {
        "id": "9XdcJRaJdfkH"
      }
    },
    {
      "cell_type": "code",
      "source": [
        "regression_data = data[data['popularity'].notna()]\n",
        "\n",
        "X_regression = regression_data[['danceability', 'energy', 'speechiness',\n",
        "                                'acousticness', 'tempo', 'valence', 'liveness', 'duration_ms']]\n",
        "y_regression = regression_data['popularity']\n",
        "\n",
        "X_train_reg, X_test_reg, y_train_reg, y_test_reg = train_test_split(X_regression, y_regression, test_size=0.3, random_state=42)\n"
      ],
      "metadata": {
        "id": "7yvzbe6CdisG"
      },
      "execution_count": null,
      "outputs": []
    },
    {
      "cell_type": "markdown",
      "source": [
        "### Обучение моделей"
      ],
      "metadata": {
        "id": "xLdwMJEwdnfH"
      }
    },
    {
      "cell_type": "markdown",
      "source": [
        "Классификация:"
      ],
      "metadata": {
        "id": "8kDtunMJdrip"
      }
    },
    {
      "cell_type": "code",
      "source": [
        "knn_classifier = KNeighborsClassifier(n_neighbors=5)\n",
        "\n",
        "knn_classifier.fit(X_train_cls, y_train_cls)\n",
        "\n",
        "y_pred_cls = knn_classifier.predict(X_test_cls)\n",
        "\n",
        "accuracy = accuracy_score(y_test_cls, y_pred_cls)\n",
        "f1 = f1_score(y_test_cls, y_pred_cls, average='weighted')\n",
        "\n",
        "print(f\"Accuracy (Классификация): {accuracy}\")\n",
        "print(f\"F1-Score (Классификация): {f1}\")\n"
      ],
      "metadata": {
        "colab": {
          "base_uri": "https://localhost:8080/"
        },
        "id": "3TBivDImdmHg",
        "outputId": "1e78e4d6-8ffe-4fab-e930-7ea9bdff9946"
      },
      "execution_count": null,
      "outputs": [
        {
          "output_type": "stream",
          "name": "stdout",
          "text": [
            "Accuracy (Классификация): 0.5807659392383397\n",
            "F1-Score (Классификация): 0.5728810515180635\n"
          ]
        }
      ]
    },
    {
      "cell_type": "markdown",
      "source": [
        "Регрессия:"
      ],
      "metadata": {
        "id": "R36UDfQzdztf"
      }
    },
    {
      "cell_type": "code",
      "source": [
        "knn_regressor = KNeighborsRegressor(n_neighbors=5)\n",
        "\n",
        "knn_regressor.fit(X_train_reg, y_train_reg)\n",
        "\n",
        "y_pred_reg = knn_regressor.predict(X_test_reg)\n",
        "\n",
        "mae = mean_absolute_error(y_test_reg, y_pred_reg)\n",
        "r2 = r2_score(y_test_reg, y_pred_reg)\n",
        "\n",
        "print(f\"Mean Absolute Error (Регрессия): {mae}\")\n",
        "print(f\"R² Score (Регрессия): {r2}\")\n"
      ],
      "metadata": {
        "colab": {
          "base_uri": "https://localhost:8080/"
        },
        "id": "NNfqrCgld166",
        "outputId": "23c0701e-5b4e-4058-953f-2d94d549d9ff"
      },
      "execution_count": null,
      "outputs": [
        {
          "output_type": "stream",
          "name": "stdout",
          "text": [
            "Mean Absolute Error (Регрессия): 14.344501497646554\n",
            "R² Score (Регрессия): -0.029624273964576675\n"
          ]
        }
      ]
    },
    {
      "cell_type": "markdown",
      "source": [
        "# Улучшение бейзлайна\n",
        "\n",
        "### Формулировка гипотез"
      ],
      "metadata": {
        "id": "I4gGBIM3ev7i"
      }
    },
    {
      "cell_type": "markdown",
      "source": [
        "1. Препроцессинг данных:\n",
        "- Нормализация/стандартизация числовых признаков (danceability, energy, и т.д.) для более стабильной работы KNN.\n",
        "- Удаление выбросов, которые могут влиять на модель.\n",
        "- Обработка категориальных данных для классификации (например, использование OneHotEncoder или LabelEncoder).\n",
        "\n",
        "2. Визуализация данных:\n",
        "- Построить графики распределения признаков, чтобы выявить возможные корреляции и выбросы.\n",
        "- Проверить корреляцию между popularity и другими признаками для регрессии.\n",
        "\n",
        "3. Формирование новых признаков:\n",
        "- Создать новые признаки, например, соотношение danceability/energy или нормализованную длительность трека.\n",
        "- Преобразовать tempo в категориальный признак (например, медленный, средний, быстрый).\n",
        "\n",
        "4. Подбор гиперпараметров:\n",
        "- Использовать кросс-валидацию для выбора оптимального числа соседей (n_neighbors).\n",
        "- Настроить другие параметры моделей, такие как метрика расстояния (евклидова, манхэттенская)."
      ],
      "metadata": {
        "id": "JusKsASsfLdS"
      }
    },
    {
      "cell_type": "markdown",
      "source": [
        "### Проверка гипотез"
      ],
      "metadata": {
        "id": "CoBHo78ofguj"
      }
    },
    {
      "cell_type": "markdown",
      "source": [
        "Препроцессинг данных: Нормализация"
      ],
      "metadata": {
        "id": "zORRELxYfitA"
      }
    },
    {
      "cell_type": "code",
      "source": [
        "from sklearn.preprocessing import StandardScaler\n",
        "\n",
        "# Нормализация для классификации\n",
        "scaler_cls = StandardScaler()\n",
        "X_train_cls_scaled = scaler_cls.fit_transform(X_train_cls)\n",
        "X_test_cls_scaled = scaler_cls.transform(X_test_cls)\n",
        "\n",
        "# Нормализация для регрессии\n",
        "scaler_reg = StandardScaler()\n",
        "X_train_reg_scaled = scaler_reg.fit_transform(X_train_reg)\n",
        "X_test_reg_scaled = scaler_reg.transform(X_test_reg)\n"
      ],
      "metadata": {
        "id": "O_du6oHsfeKX"
      },
      "execution_count": null,
      "outputs": []
    },
    {
      "cell_type": "markdown",
      "source": [
        "Визуализация данных"
      ],
      "metadata": {
        "id": "5z_9D-1sfnVj"
      }
    },
    {
      "cell_type": "code",
      "source": [
        "numeric_columns = regression_data.select_dtypes(include=['float64', 'int64']).columns\n",
        "numeric_data = regression_data[numeric_columns]\n",
        "\n",
        "sns.heatmap(numeric_data.corr(), annot=True, cmap='coolwarm')\n",
        "plt.title('Correlation Matrix for Regression')\n",
        "plt.show()"
      ],
      "metadata": {
        "colab": {
          "base_uri": "https://localhost:8080/",
          "height": 558
        },
        "id": "Ssawq4TIfn_R",
        "outputId": "58014e6d-26db-4392-cb71-384ab6d3a526"
      },
      "execution_count": null,
      "outputs": [
        {
          "output_type": "display_data",
          "data": {
            "text/plain": [
              "<Figure size 640x480 with 2 Axes>"
            ],
            "image/png": "[encoded data removed]"
          },
          "metadata": {}
        }
      ]
    },
    {
      "cell_type": "code",
      "source": [
        "sns.pairplot(classification_data[['danceability', 'energy', 'valence', 'language']])\n",
        "plt.show()"
      ],
      "metadata": {
        "colab": {
          "base_uri": "https://localhost:8080/",
          "height": 758
        },
        "id": "pEwYpNKzgHOO",
        "outputId": "29e5a8fd-05a5-4a56-915a-010a2127aad8"
      },
      "execution_count": null,
      "outputs": [
        {
          "output_type": "display_data",
          "data": {
            "text/plain": [
              "<Figure size 750x750 with 12 Axes>"
            ],
            "image/png": "[encoded data removed]"
          },
          "metadata": {}
        }
      ]
    },
    {
      "cell_type": "markdown",
      "source": [
        "Формирование новых признаков"
      ],
      "metadata": {
        "id": "Wro0ICdKgLRp"
      }
    },
    {
      "cell_type": "code",
      "source": [
        "X_train_cls['danceability_energy_ratio'] = X_train_cls['danceability'] / (X_train_cls['energy'] + 1e-5)\n",
        "X_test_cls['danceability_energy_ratio'] = X_test_cls['danceability'] / (X_test_cls['energy'] + 1e-5)\n",
        "\n",
        "X_train_reg['danceability_energy_ratio'] = X_train_reg['danceability'] / (X_train_reg['energy'] + 1e-5)\n",
        "X_test_reg['danceability_energy_ratio'] = X_test_reg['danceability'] / (X_test_reg['energy'] + 1e-5)\n"
      ],
      "metadata": {
        "id": "UOgdm0x-gLyL"
      },
      "execution_count": null,
      "outputs": []
    },
    {
      "cell_type": "markdown",
      "source": [
        "Подбор гиперпараметров"
      ],
      "metadata": {
        "id": "LGHzAhbBgPbr"
      }
    },
    {
      "cell_type": "code",
      "source": [
        "from sklearn.model_selection import GridSearchCV\n",
        "\n",
        "# Подбор гиперпараметров для классификации\n",
        "param_grid_cls = {'n_neighbors': range(1, 21)}\n",
        "grid_cls = GridSearchCV(KNeighborsClassifier(), param_grid_cls, cv=5, scoring='f1_weighted')\n",
        "grid_cls.fit(X_train_cls_scaled, y_train_cls)\n",
        "\n",
        "print(f\"Лучшее KNN (классификация): {grid_cls.best_params_}\")\n",
        "\n",
        "# Подбор гиперпараметров для регрессии\n",
        "param_grid_reg = {'n_neighbors': range(1, 21)}\n",
        "grid_reg = GridSearchCV(KNeighborsRegressor(), param_grid_reg, cv=5, scoring='r2')\n",
        "grid_reg.fit(X_train_reg_scaled, y_train_reg)\n",
        "\n",
        "print(f\"Лучшее KNN (регрессия): {grid_reg.best_params_}\")\n"
      ],
      "metadata": {
        "colab": {
          "base_uri": "https://localhost:8080/"
        },
        "id": "ZEoWVMBcgP8u",
        "outputId": "c8d96531-6523-4c87-b088-5e610750f2a5"
      },
      "execution_count": null,
      "outputs": [
        {
          "output_type": "stream",
          "name": "stdout",
          "text": [
            "Лучшее KNN (классификация): {'n_neighbors': 1}\n",
            "Лучшее KNN (регрессия): {'n_neighbors': 18}\n"
          ]
        }
      ]
    },
    {
      "cell_type": "markdown",
      "source": [
        "### Обучение моделей"
      ],
      "metadata": {
        "id": "3LhM8yrYhGxO"
      }
    },
    {
      "cell_type": "code",
      "source": [
        "# Классификация\n",
        "knn_classifier_optimized = KNeighborsClassifier(n_neighbors=grid_cls.best_params_['n_neighbors'])\n",
        "knn_classifier_optimized.fit(X_train_cls_scaled, y_train_cls)\n",
        "y_pred_cls_optimized = knn_classifier_optimized.predict(X_test_cls_scaled)\n",
        "\n",
        "# Регрессия\n",
        "knn_regressor_optimized = KNeighborsRegressor(n_neighbors=grid_reg.best_params_['n_neighbors'])\n",
        "knn_regressor_optimized.fit(X_train_reg_scaled, y_train_reg)\n",
        "y_pred_reg_optimized = knn_regressor_optimized.predict(X_test_reg_scaled)\n"
      ],
      "metadata": {
        "id": "mrI8KD_8hH4h"
      },
      "execution_count": null,
      "outputs": []
    },
    {
      "cell_type": "markdown",
      "source": [
        "### Оценка качества"
      ],
      "metadata": {
        "id": "8H3Ud983hRKt"
      }
    },
    {
      "cell_type": "code",
      "source": [
        "# Метрики для классификации\n",
        "accuracy_optimized = accuracy_score(y_test_cls, y_pred_cls_optimized)\n",
        "f1_optimized = f1_score(y_test_cls, y_pred_cls_optimized, average='weighted')\n",
        "\n",
        "print(f\"Оптимизированная Accuracy (Классификация): {accuracy_optimized}\")\n",
        "print(f\"Оптимизированный F1-Score (Классификация): {f1_optimized}\")\n",
        "\n",
        "# Метрики для регрессии\n",
        "mae_optimized = mean_absolute_error(y_test_reg, y_pred_reg_optimized)\n",
        "r2_optimized = r2_score(y_test_reg, y_pred_reg_optimized)\n",
        "\n",
        "print(f\"Оптимизированный Mean Absolute Error (Регрессия): {mae_optimized}\")\n",
        "print(f\"Оптимизированный R² Score (Регрессия): {r2_optimized}\")\n"
      ],
      "metadata": {
        "colab": {
          "base_uri": "https://localhost:8080/"
        },
        "id": "ZpWCgyIbhTDV",
        "outputId": "0cc6ab6f-07b9-4351-ae53-8741fe03ce6a"
      },
      "execution_count": null,
      "outputs": [
        {
          "output_type": "stream",
          "name": "stdout",
          "text": [
            "Оптимизированная Accuracy (Классификация): 0.6423833975181857\n",
            "Оптимизированный F1-Score (Классификация): 0.6425971283885995\n",
            "Оптимизированный Mean Absolute Error (Регрессия): 13.606427994104502\n",
            "Оптимизированный R² Score (Регрессия): 0.1088899240978809\n"
          ]
        }
      ]
    },
    {
      "cell_type": "markdown",
      "source": [
        "### Сравнение:\n",
        "до:\n",
        "\n",
        "Accuracy (Классификация): 0.5807659392383397<br>\n",
        "F1-Score (Классификация): 0.5728810515180635<br>\n",
        "Mean Absolute Error (Регрессия): 14.344501497646554<br>\n",
        "R² Score (Регрессия): -0.029624273964576675\n",
        "\n",
        "после:\n",
        "\n",
        "Оптимизированная Accuracy (Классификация): 0.6423833975181857 (+6.17%)<br>\n",
        "Оптимизированный F1-Score (Классификация): 0.6425971283885995 (+6.97%)<br>\n",
        "Оптимизированный Mean Absolute Error (Регрессия): 13.606427994104502 (-5.14%, уменьшение ошибки)<br>\n",
        "Оптимизированный R² Score (Регрессия): 0.1088899240978809 (R² стал положительным, что говорит о лучшем объяснении вариации данных)"
      ],
      "metadata": {
        "id": "9s218JzXhsOK"
      }
    },
    {
      "cell_type": "markdown",
      "source": [
        "### Выводы:\n",
        "\n",
        "1. Классификация: улучшение метрик свидетельствует о том, что оптимизация гиперпараметров и/или добавление новых признаков увеличило способность модели правильно классифицировать треки по языку. Особенно заметно повышение F1-Score, что говорит о лучшем балансе между точностью и полнотой.\n",
        "\n",
        "2. Регрессия:\n",
        "- Снижение MAE указывает на меньшую абсолютную ошибку предсказания популярности трека.\n",
        "- Положительное значение R² подтверждает, что оптимизированная модель лучше объясняет вариации данных, тогда как базовая модель была практически бесполезной (R² < 0)."
      ],
      "metadata": {
        "id": "szWdgzjgiMws"
      }
    },
    {
      "cell_type": "markdown",
      "source": [
        "# Имплементация алгоритма машинного обучения"
      ],
      "metadata": {
        "id": "INqujSddi5OY"
      }
    },
    {
      "cell_type": "markdown",
      "source": [
        "### Имплементация KNN для классификации"
      ],
      "metadata": {
        "id": "jW8Gxo2jjTl3"
      }
    },
    {
      "cell_type": "code",
      "source": [
        "class KNNClassifier:\n",
        "    def __init__(self, k=3):\n",
        "        self.k = k\n",
        "\n",
        "    def fit(self, X, y):\n",
        "        self.X_train = np.array(X)\n",
        "        self.y_train = np.array(y)\n",
        "\n",
        "    def predict(self, X):\n",
        "        X = np.array(X)\n",
        "        predictions = []\n",
        "        for x in X:\n",
        "            distances = np.linalg.norm(self.X_train - x, axis=1)\n",
        "            nearest_indices = distances.argsort()[:self.k]\n",
        "            nearest_labels = self.y_train[nearest_indices]\n",
        "            predictions.append(np.bincount(nearest_labels).argmax())\n",
        "        return np.array(predictions)\n"
      ],
      "metadata": {
        "id": "7s999m12jWAm"
      },
      "execution_count": null,
      "outputs": []
    },
    {
      "cell_type": "markdown",
      "source": [
        "### Для регрессии"
      ],
      "metadata": {
        "id": "FKlop5LjjWp4"
      }
    },
    {
      "cell_type": "code",
      "source": [
        "class LinearRegressionModel:\n",
        "    def __init__(self):\n",
        "        self.coefficients = None\n",
        "        self.intercept = None\n",
        "\n",
        "    def fit(self, X, y):\n",
        "        X = np.hstack((np.ones((X.shape[0], 1)), np.array(X)))  # Добавляем столбец для свободного члена\n",
        "        y = np.array(y).reshape(-1, 1)\n",
        "        theta = np.linalg.inv(X.T @ X) @ X.T @ y\n",
        "        self.intercept = theta[0, 0]\n",
        "        self.coefficients = theta[1:, 0]\n",
        "\n",
        "    def predict(self, X):\n",
        "        X = np.array(X)\n",
        "        return X @ self.coefficients + self.intercept\n"
      ],
      "metadata": {
        "id": "ElBlRfTKjYon"
      },
      "execution_count": null,
      "outputs": []
    },
    {
      "cell_type": "markdown",
      "source": [
        "### Подготовка данных"
      ],
      "metadata": {
        "id": "b5j_YS3VjcqU"
      }
    },
    {
      "cell_type": "code",
      "source": [
        "data = pd.read_csv('spotify_tracks.csv')"
      ],
      "metadata": {
        "id": "aWeTU2w-huZj"
      },
      "execution_count": null,
      "outputs": []
    },
    {
      "cell_type": "markdown",
      "source": [
        "Подготовка данных для классификации"
      ],
      "metadata": {
        "id": "I_2ZQeoY9gs5"
      }
    },
    {
      "cell_type": "code",
      "source": [
        "classification_data = data[data['language'].notna()]\n",
        "X_classification = classification_data[['danceability', 'energy', 'speechiness',\n",
        "                                        'acousticness', 'tempo', 'valence', 'liveness']]\n",
        "y_classification = classification_data['language']"
      ],
      "metadata": {
        "id": "oPmeY5j39c01"
      },
      "execution_count": null,
      "outputs": []
    },
    {
      "cell_type": "markdown",
      "source": [
        "Кодирование меток языка"
      ],
      "metadata": {
        "id": "MIdE2d7o9kVy"
      }
    },
    {
      "cell_type": "code",
      "source": [
        "from sklearn.preprocessing import LabelEncoder"
      ],
      "metadata": {
        "id": "xSduH3Fc9nnP"
      },
      "execution_count": null,
      "outputs": []
    },
    {
      "cell_type": "code",
      "source": [
        "label_encoder = LabelEncoder()\n",
        "y_classification_encoded = label_encoder.fit_transform(y_classification)"
      ],
      "metadata": {
        "id": "TVKveJSa9kso"
      },
      "execution_count": null,
      "outputs": []
    },
    {
      "cell_type": "markdown",
      "source": [
        "Разделение на обучающую и тестовую выборки"
      ],
      "metadata": {
        "id": "59hBs4nj9roj"
      }
    },
    {
      "cell_type": "code",
      "source": [
        "X_train_cls, X_test_cls, y_train_cls, y_test_cls = train_test_split(\n",
        "    X_classification, y_classification_encoded, test_size=0.3, random_state=42\n",
        ")"
      ],
      "metadata": {
        "id": "y9SZe6zS9r3w"
      },
      "execution_count": null,
      "outputs": []
    },
    {
      "cell_type": "markdown",
      "source": [
        "Подготовка данных для регрессии"
      ],
      "metadata": {
        "id": "IG0w6Q6u9yyj"
      }
    },
    {
      "cell_type": "code",
      "source": [
        "regression_data = data[data['popularity'].notna()]\n",
        "X_regression = regression_data[['danceability', 'energy', 'speechiness',\n",
        "                                'acousticness', 'tempo', 'valence', 'liveness', 'duration_ms']]\n",
        "y_regression = regression_data['popularity']"
      ],
      "metadata": {
        "id": "hJZ52GTj9zaX"
      },
      "execution_count": null,
      "outputs": []
    },
    {
      "cell_type": "markdown",
      "source": [
        "Разделение на обучающую и тестовую выборки"
      ],
      "metadata": {
        "id": "Rs4i-zCd92TJ"
      }
    },
    {
      "cell_type": "code",
      "source": [
        "X_train_reg, X_test_reg, y_train_reg, y_test_reg = train_test_split(\n",
        "    X_regression, y_regression, test_size=0.3, random_state=42\n",
        ")"
      ],
      "metadata": {
        "id": "6xzvvLth92m_"
      },
      "execution_count": null,
      "outputs": []
    },
    {
      "cell_type": "markdown",
      "source": [
        "### Обучение и оценка KNN"
      ],
      "metadata": {
        "id": "C0GQmjuX-IxD"
      }
    },
    {
      "cell_type": "code",
      "source": [
        "from sklearn.metrics import accuracy_score, f1_score\n",
        "\n",
        "# Обучение KNN\n",
        "knn_classifier = KNNClassifier(k=5)\n",
        "knn_classifier.fit(X_train_cls, y_train_cls)\n",
        "\n",
        "# Предсказания\n",
        "y_pred_cls = knn_classifier.predict(X_test_cls)\n",
        "\n",
        "# Оценка качества\n",
        "accuracy = accuracy_score(y_test_cls, y_pred_cls)\n",
        "f1 = f1_score(y_test_cls, y_pred_cls, average='weighted')\n",
        "\n",
        "print(f\"Классификация - Accuracy: {accuracy:.4f}\")\n",
        "print(f\"Классификация - F1-Score: {f1:.4f}\")"
      ],
      "metadata": {
        "colab": {
          "base_uri": "https://localhost:8080/"
        },
        "id": "kSdoE6T_-KXv",
        "outputId": "715b3481-f1aa-44c9-ef85-9977d0158b58"
      },
      "execution_count": null,
      "outputs": [
        {
          "output_type": "stream",
          "name": "stdout",
          "text": [
            "Классификация - Accuracy: 0.5810\n",
            "Классификация - F1-Score: 0.5731\n"
          ]
        }
      ]
    },
    {
      "cell_type": "markdown",
      "source": [
        "### Обучение и оценка линейной регрессии"
      ],
      "metadata": {
        "id": "R60BRc1T-S83"
      }
    },
    {
      "cell_type": "code",
      "source": [
        "from sklearn.metrics import mean_absolute_error, r2_score\n",
        "\n",
        "# Обучение линейной регрессии\n",
        "linear_regression = LinearRegressionModel()\n",
        "linear_regression.fit(X_train_reg, y_train_reg)\n",
        "\n",
        "# Предсказания\n",
        "y_pred_reg = linear_regression.predict(X_test_reg)\n",
        "\n",
        "# Оценка качества\n",
        "mae = mean_absolute_error(y_test_reg, y_pred_reg)\n",
        "r2 = r2_score(y_test_reg, y_pred_reg)\n",
        "\n",
        "print(f\"Регрессия - MAE: {mae:.4f}\")\n",
        "print(f\"Регрессия - R²: {r2:.4f}\")\n"
      ],
      "metadata": {
        "colab": {
          "base_uri": "https://localhost:8080/"
        },
        "id": "VNoMI5n_-UdI",
        "outputId": "785477c3-869f-4522-c1eb-1d4d0956b8d7"
      },
      "execution_count": null,
      "outputs": [
        {
          "output_type": "stream",
          "name": "stdout",
          "text": [
            "Регрессия - MAE: 14.8470\n",
            "Регрессия - R²: 0.0398\n"
          ]
        }
      ]
    },
    {
      "cell_type": "markdown",
      "source": [
        "### Сравнение результатов и выводы\n",
        "\n",
        "Результаты классификации:\n",
        "\n",
        "| **Метрика**       | Реализованная модель (KNN) | `sklearn` модель (KNeighborsClassifier) |\n",
        "|--------------------|----------------------------|------------------------------------------|\n",
        "| Accuracy          | 0.5810                    | 0.5808                                  |\n",
        "| F1-Score          | 0.5731                    | 0.5729                                  |\n",
        "\n",
        "Вывод по классификации:\n",
        "- Результаты по метрикам `Accuracy` и `F1-Score` практически идентичны. Это ожидаемо, так как алгоритм KNN прост в реализации и предсказания зависят в основном от гиперпараметра \\( k \\), который в обоих случаях был одинаковым.\n",
        "- Реализованная модель работает корректно, но может быть медленнее, чем `sklearn`, из-за оптимизаций и встроенных ускорений библиотеки.\n",
        "\n",
        "\n",
        "Результаты регрессии:\n",
        "\n",
        "| **Метрика**       | Реализованная модель (Linear Regression) | `sklearn` модель (LinearRegression) |\n",
        "|--------------------|------------------------------------------|--------------------------------------|\n",
        "| MAE               | 14.8470                                 | 14.3445                             |\n",
        "| R² Score          | 0.0398                                  | -0.0296                             |\n",
        "\n",
        "Вывод по регрессии:\n",
        "- Метрика `MAE` показывает, что модель из `sklearn` слегка лучше справляется с минимизацией средних абсолютных ошибок.\n",
        "- Значение `R²` указывает на то, что обе модели плохо объясняют дисперсию данных, но у реализованной модели оно немного лучше (хотя положительное значение 0.0398 всё ещё близко к нулю).\n",
        "- Разница в качестве может быть связана с обработкой данных или оптимизацией коэффициентов. `sklearn` использует более точные численные методы, а наша реализация может быть чувствительна к масштабу данных.\n",
        "\n",
        "\n"
      ],
      "metadata": {
        "id": "r9u1K3mX-7cJ"
      }
    },
    {
      "cell_type": "markdown",
      "source": [
        "# Добавление техник из улучшенного бейзлайна"
      ],
      "metadata": {
        "id": "gXYulUIBAfvj"
      }
    },
    {
      "cell_type": "markdown",
      "source": [
        "### Препроцессинг данных"
      ],
      "metadata": {
        "id": "mFFxVih9Aidi"
      }
    },
    {
      "cell_type": "markdown",
      "source": [
        "Загрузка данных"
      ],
      "metadata": {
        "id": "BpDBO8fQAxW3"
      }
    },
    {
      "cell_type": "code",
      "source": [
        "data = pd.read_csv('spotify_tracks.csv')"
      ],
      "metadata": {
        "id": "KKUUKWQNAycy"
      },
      "execution_count": null,
      "outputs": []
    },
    {
      "cell_type": "markdown",
      "source": [
        "Предварительная обработка данных<br>\n",
        "Удаление пропусков в целевой переменной для классификации"
      ],
      "metadata": {
        "id": "ZQg_TL-8A0Az"
      }
    },
    {
      "cell_type": "code",
      "source": [
        "classification_data = data[data['language'].notna()]"
      ],
      "metadata": {
        "id": "2NX92sJDA4M1"
      },
      "execution_count": null,
      "outputs": []
    },
    {
      "cell_type": "markdown",
      "source": [
        "Выбор признаков для классификации"
      ],
      "metadata": {
        "id": "k96LrXaSA6zN"
      }
    },
    {
      "cell_type": "code",
      "source": [
        "X_classification = classification_data[['danceability', 'energy', 'speechiness',\n",
        "                                        'acousticness', 'tempo', 'valence', 'liveness']]\n",
        "y_classification = classification_data['language']"
      ],
      "metadata": {
        "id": "AnPOSyOEA7H0"
      },
      "execution_count": null,
      "outputs": []
    },
    {
      "cell_type": "markdown",
      "source": [
        "Нормализация числовых признаков для классификации"
      ],
      "metadata": {
        "id": "D7Y_WnPcA95L"
      }
    },
    {
      "cell_type": "code",
      "source": [
        "from sklearn.preprocessing import StandardScaler\n",
        "\n",
        "scaler_cls = StandardScaler()\n",
        "X_classification = scaler_cls.fit_transform(X_classification)"
      ],
      "metadata": {
        "id": "7oNXT5EXA_B-"
      },
      "execution_count": null,
      "outputs": []
    },
    {
      "cell_type": "markdown",
      "source": [
        "Кодирование категориального признака (язык трека)"
      ],
      "metadata": {
        "id": "L248ug5yBHAt"
      }
    },
    {
      "cell_type": "code",
      "source": [
        "label_encoder = LabelEncoder()\n",
        "y_classification = label_encoder.fit_transform(y_classification)"
      ],
      "metadata": {
        "id": "IlNNTexJBDA9"
      },
      "execution_count": null,
      "outputs": []
    },
    {
      "cell_type": "markdown",
      "source": [
        "Разделение данных на обучающую и тестовую выборки для классификации"
      ],
      "metadata": {
        "id": "Yd5_FmrLBLfa"
      }
    },
    {
      "cell_type": "code",
      "source": [
        "X_train_cls, X_test_cls, y_train_cls, y_test_cls = train_test_split(X_classification, y_classification, test_size=0.3, random_state=42)"
      ],
      "metadata": {
        "id": "fUEL-AHrBM4l"
      },
      "execution_count": null,
      "outputs": []
    },
    {
      "cell_type": "markdown",
      "source": [
        "Удаление пропусков в целевой переменной для регрессии"
      ],
      "metadata": {
        "id": "IBVNlA1nBPAW"
      }
    },
    {
      "cell_type": "code",
      "source": [
        "regression_data = data[data['popularity'].notna()]"
      ],
      "metadata": {
        "id": "Iyw2A5DOBR4j"
      },
      "execution_count": null,
      "outputs": []
    },
    {
      "cell_type": "markdown",
      "source": [
        "Выбор признаков для регрессии"
      ],
      "metadata": {
        "id": "3PxyCjqHBT7l"
      }
    },
    {
      "cell_type": "code",
      "source": [
        "X_regression = regression_data[['danceability', 'energy', 'speechiness',\n",
        "                                'acousticness', 'tempo', 'valence', 'liveness', 'duration_ms']]\n",
        "y_regression = regression_data['popularity']"
      ],
      "metadata": {
        "id": "4td8zaM8BUV3"
      },
      "execution_count": null,
      "outputs": []
    },
    {
      "cell_type": "markdown",
      "source": [
        "Нормализация числовых признаков для регрессии"
      ],
      "metadata": {
        "id": "G0Qt_b5ZBXhq"
      }
    },
    {
      "cell_type": "code",
      "source": [
        "scaler_reg = StandardScaler()\n",
        "X_regression = scaler_reg.fit_transform(X_regression)"
      ],
      "metadata": {
        "id": "1B2-lcQRBZ3j"
      },
      "execution_count": null,
      "outputs": []
    },
    {
      "cell_type": "markdown",
      "source": [
        "Разделение данных на обучающую и тестовую выборки для регрессии"
      ],
      "metadata": {
        "id": "cvaUkxxgBbiG"
      }
    },
    {
      "cell_type": "code",
      "source": [
        "X_train_reg, X_test_reg, y_train_reg, y_test_reg = train_test_split(X_regression, y_regression, test_size=0.3, random_state=42)"
      ],
      "metadata": {
        "id": "Dr0LpxUABc81"
      },
      "execution_count": null,
      "outputs": []
    },
    {
      "cell_type": "markdown",
      "source": [
        "### Формирование новых признаков"
      ],
      "metadata": {
        "id": "EVLgR6XuBiH6"
      }
    },
    {
      "cell_type": "markdown",
      "source": [
        "Новый признак: соотношение danceability и energy"
      ],
      "metadata": {
        "id": "HdYvyzXfBjiK"
      }
    },
    {
      "cell_type": "code",
      "source": [
        "if 'danceability' in data.columns and 'energy' in data.columns:\n",
        "    data['dance_energy_ratio'] = data['danceability'] / (data['energy'] + 1e-6)\n",
        "    if 'dance_energy_ratio' in classification_data.columns:\n",
        "        classification_data['dance_energy_ratio'] = classification_data['danceability'] / (classification_data['energy'] + 1e-6)\n",
        "    if 'dance_energy_ratio' in regression_data.columns:\n",
        "        regression_data['dance_energy_ratio'] = regression_data['danceability'] / (regression_data['energy'] + 1e-6)"
      ],
      "metadata": {
        "id": "S-cAGDV8Bk_f"
      },
      "execution_count": null,
      "outputs": []
    },
    {
      "cell_type": "markdown",
      "source": [
        "Добавление нового признака к классификационным данным"
      ],
      "metadata": {
        "id": "G0MbP0ZWBrkd"
      }
    },
    {
      "cell_type": "code",
      "source": [
        "if 'dance_energy_ratio' in classification_data.columns:\n",
        "    X_classification = np.hstack((X_classification, classification_data[['dance_energy_ratio']].values))"
      ],
      "metadata": {
        "id": "xo-Z1NNMBr6f"
      },
      "execution_count": null,
      "outputs": []
    },
    {
      "cell_type": "markdown",
      "source": [
        "Добавление нового признака к регрессионным данным"
      ],
      "metadata": {
        "id": "dZIl8c2TBuKG"
      }
    },
    {
      "cell_type": "code",
      "source": [
        "if 'dance_energy_ratio' in regression_data.columns:\n",
        "    X_regression = np.hstack((X_regression, regression_data[['dance_energy_ratio']].values))"
      ],
      "metadata": {
        "id": "MOvEJlgHBvTm"
      },
      "execution_count": null,
      "outputs": []
    },
    {
      "cell_type": "markdown",
      "source": [
        "### Подбор гиперпараметров"
      ],
      "metadata": {
        "id": "jmTG5eCYBywh"
      }
    },
    {
      "cell_type": "markdown",
      "source": [
        "Настройка для классификации (например, подбор n_neighbors)"
      ],
      "metadata": {
        "id": "WQgYSAtQB5mU"
      }
    },
    {
      "cell_type": "code",
      "source": [
        "from sklearn.model_selection import GridSearchCV\n",
        "\n",
        "param_grid_cls = {'n_neighbors': [3, 5, 7, 9], 'metric': ['euclidean', 'manhattan']}\n",
        "grid_cls = GridSearchCV(KNeighborsClassifier(), param_grid_cls, cv=5, scoring='accuracy')\n",
        "grid_cls.fit(X_train_cls, y_train_cls)\n",
        "best_knn_cls = grid_cls.best_estimator_"
      ],
      "metadata": {
        "id": "UtXSy4W9B1_D"
      },
      "execution_count": null,
      "outputs": []
    },
    {
      "cell_type": "markdown",
      "source": [
        "Настройка для регрессии"
      ],
      "metadata": {
        "id": "zLqqo_kYCDM0"
      }
    },
    {
      "cell_type": "code",
      "source": [
        "param_grid_reg = {'n_neighbors': [3, 5, 7, 9], 'metric': ['euclidean', 'manhattan']}\n",
        "grid_reg = GridSearchCV(KNeighborsRegressor(), param_grid_reg, cv=5, scoring='neg_mean_absolute_error')\n",
        "grid_reg.fit(X_train_reg, y_train_reg)\n",
        "best_knn_reg = grid_reg.best_estimator_"
      ],
      "metadata": {
        "id": "C28Q45jwCESN"
      },
      "execution_count": null,
      "outputs": []
    },
    {
      "cell_type": "markdown",
      "source": [
        "### Обучение моделей"
      ],
      "metadata": {
        "id": "TF0dvw_qCGEr"
      }
    },
    {
      "cell_type": "markdown",
      "source": [
        "Классификация"
      ],
      "metadata": {
        "id": "E7EWTQffCHlK"
      }
    },
    {
      "cell_type": "code",
      "source": [
        "best_knn_cls.fit(X_train_cls, y_train_cls)\n",
        "y_pred_classification = best_knn_cls.predict(X_test_cls)"
      ],
      "metadata": {
        "id": "Ov7w7YaOCKBX"
      },
      "execution_count": null,
      "outputs": []
    },
    {
      "cell_type": "markdown",
      "source": [
        "Регрессия"
      ],
      "metadata": {
        "id": "rec51cHHCMEm"
      }
    },
    {
      "cell_type": "code",
      "source": [
        "best_knn_reg.fit(X_train_reg, y_train_reg)\n",
        "y_pred_regression = best_knn_reg.predict(X_test_reg)"
      ],
      "metadata": {
        "id": "FeuZrzbaCMci"
      },
      "execution_count": null,
      "outputs": []
    },
    {
      "cell_type": "markdown",
      "source": [
        "### Оценка качества моделей"
      ],
      "metadata": {
        "id": "9zk7vmh5CPde"
      }
    },
    {
      "cell_type": "markdown",
      "source": [
        "Метрики для классификации"
      ],
      "metadata": {
        "id": "81YQ0mL8CS1Y"
      }
    },
    {
      "cell_type": "code",
      "source": [
        "classification_accuracy = accuracy_score(y_test_cls, y_pred_classification)\n",
        "classification_f1 = f1_score(y_test_cls, y_pred_classification, average='weighted')\n",
        "\n",
        "print(f\"Accuracy: {classification_accuracy}\")\n",
        "print(f\"F1-Score: {classification_f1}\")"
      ],
      "metadata": {
        "colab": {
          "base_uri": "https://localhost:8080/"
        },
        "id": "-v315HeeCOIL",
        "outputId": "7e986209-a202-4e04-beb9-7921baab45c5"
      },
      "execution_count": null,
      "outputs": [
        {
          "output_type": "stream",
          "name": "stdout",
          "text": [
            "Accuracy: 0.5997539580658965\n",
            "F1-Score: 0.5902250773514796\n"
          ]
        }
      ]
    },
    {
      "cell_type": "markdown",
      "source": [
        "Метрики для регрессии"
      ],
      "metadata": {
        "id": "Vokv5KzYCZaW"
      }
    },
    {
      "cell_type": "code",
      "source": [
        "regression_mae = mean_absolute_error(y_test_reg, y_pred_regression)\n",
        "regression_r2 = r2_score(y_test_reg, y_pred_regression)\n",
        "\n",
        "print(f\"MAE: {regression_mae}\")\n",
        "print(f\"R²: {regression_r2}\")"
      ],
      "metadata": {
        "colab": {
          "base_uri": "https://localhost:8080/"
        },
        "id": "WrY-vblyCbCe",
        "outputId": "1351be8b-2324-4aff-a752-d7af50ade111"
      },
      "execution_count": null,
      "outputs": [
        {
          "output_type": "stream",
          "name": "stdout",
          "text": [
            "MAE: 13.3970138761538\n",
            "R²: 0.08697571897689749\n"
          ]
        }
      ]
    },
    {
      "cell_type": "markdown",
      "source": [
        "### Сравнение результатов и выводы"
      ],
      "metadata": {
        "id": "2dNkdN9vDIzF"
      }
    },
    {
      "cell_type": "markdown",
      "source": [
        "Классификация:\n",
        "\n",
        "| **Метрика**       | Реализованная модель | `sklearn` модель |\n",
        "|--------------------|----------------------------|------------------------------------------|\n",
        "| Accuracy          | 0.5998                    | 0.6424                                  |\n",
        "| F1-Score          | 0.5902                    | 0.6426                               |\n",
        "\n",
        "Модели sklearn показывают лучшие результаты как по Accuracy, так и по F1-Score.\n",
        "Это связано с тем, что алгоритмы sklearn лучше справляются с более сложными структурами данных благодаря оптимизациям в реализации.\n",
        "\n",
        "Регрессия:\n",
        "\n",
        "| **Метрика**       | Реализованная модель | `sklearn` модель |\n",
        "|--------------------|------------------------------------------|--------------------------------------|\n",
        "| MAE               | 13.3970                                 | 13.6064                             |\n",
        "| R² Score          | 0.0870                                  | 0.1089                             |\n",
        "\n",
        "Вывод:\n",
        "\n",
        "Собственная модель показывает лучший результат по MAE (меньшая ошибка), что говорит о более точном предсказании.\n",
        "Однако R² Score выше у моделей sklearn, что свидетельствует о лучшем объяснении дисперсии данных."
      ],
      "metadata": {
        "id": "rUGbgmdhDLLg"
      }
    },
    {
      "cell_type": "markdown",
      "source": [
        "# Лабораторная работа №2"
      ],
      "metadata": {
        "id": "1SjBd6lKFBMo"
      }
    },
    {
      "cell_type": "markdown",
      "source": [
        "# Создание бейзлайна и оценка качества"
      ],
      "metadata": {
        "id": "CDswPmRNHyWJ"
      }
    },
    {
      "cell_type": "code",
      "source": [
        "import pandas as pd\n",
        "import numpy as np\n",
        "from sklearn.model_selection import train_test_split\n",
        "from sklearn.linear_model import LogisticRegression, LinearRegression\n",
        "from sklearn.preprocessing import StandardScaler\n",
        "from sklearn.metrics import accuracy_score, r2_score"
      ],
      "metadata": {
        "id": "rdTkYLxMHtJr"
      },
      "execution_count": null,
      "outputs": []
    },
    {
      "cell_type": "markdown",
      "source": [
        "Загрузка данных"
      ],
      "metadata": {
        "id": "MMiWyhXtH1DL"
      }
    },
    {
      "cell_type": "code",
      "source": [
        "data = pd.read_csv('spotify_tracks.csv')"
      ],
      "metadata": {
        "id": "a2TWQQkwHzjG"
      },
      "execution_count": null,
      "outputs": []
    },
    {
      "cell_type": "markdown",
      "source": [
        "Выбор признаков для классификации и регрессии"
      ],
      "metadata": {
        "id": "AegTRgQZIIAs"
      }
    },
    {
      "cell_type": "code",
      "source": [
        "classification_features = [\"danceability\", \"energy\", \"speechiness\", \"acousticness\", \"tempo\", \"valence\", \"liveness\"]\n",
        "regression_features = classification_features + [\"duration_ms\"]"
      ],
      "metadata": {
        "id": "4vL-RtNTIJXI"
      },
      "execution_count": null,
      "outputs": []
    },
    {
      "cell_type": "markdown",
      "source": [
        "Обработка данных: удаление пропусков"
      ],
      "metadata": {
        "id": "zBgQCAubILWl"
      }
    },
    {
      "cell_type": "code",
      "source": [
        "data = data.dropna(subset=classification_features + regression_features + [\"language\", \"popularity\"])"
      ],
      "metadata": {
        "id": "pyvg3Uz8IMfO"
      },
      "execution_count": null,
      "outputs": []
    },
    {
      "cell_type": "markdown",
      "source": [
        "Подготовка данных для классификации и регрессии"
      ],
      "metadata": {
        "id": "J8jM6c3_IQUF"
      }
    },
    {
      "cell_type": "code",
      "source": [
        "X_classification = data[classification_features]\n",
        "y_classification = data[\"language\"]\n",
        "X_regression = data[regression_features]\n",
        "y_regression = data[\"popularity\"]"
      ],
      "metadata": {
        "id": "sXKNbi6mIOqe"
      },
      "execution_count": null,
      "outputs": []
    },
    {
      "cell_type": "markdown",
      "source": [
        "Разделение на обучающую и тестовую выборки"
      ],
      "metadata": {
        "id": "UtdtQqU7IU1h"
      }
    },
    {
      "cell_type": "code",
      "source": [
        "X_train_clf, X_test_clf, y_train_clf, y_test_clf = train_test_split(X_classification, y_classification, test_size=0.2, random_state=42)\n",
        "X_train_reg, X_test_reg, y_train_reg, y_test_reg = train_test_split(X_regression, y_regression, test_size=0.2, random_state=42)"
      ],
      "metadata": {
        "id": "pkFt5ntmIVyw"
      },
      "execution_count": null,
      "outputs": []
    },
    {
      "cell_type": "markdown",
      "source": [
        "Масштабирование признаков"
      ],
      "metadata": {
        "id": "jWdF5eTAIYNh"
      }
    },
    {
      "cell_type": "code",
      "source": [
        "scaler = StandardScaler()\n",
        "X_train_clf = scaler.fit_transform(X_train_clf)\n",
        "X_test_clf = scaler.transform(X_test_clf)\n",
        "X_train_reg = scaler.fit_transform(X_train_reg)\n",
        "X_test_reg = scaler.transform(X_test_reg)"
      ],
      "metadata": {
        "id": "aHhvtn5xIW_n"
      },
      "execution_count": null,
      "outputs": []
    },
    {
      "cell_type": "markdown",
      "source": [
        "Обучение модели логистической регрессии (классификация)"
      ],
      "metadata": {
        "id": "WWU-DhMuIf2Y"
      }
    },
    {
      "cell_type": "code",
      "source": [
        "logistic_model = LogisticRegression(max_iter=1000, random_state=42)\n",
        "logistic_model.fit(X_train_clf, y_train_clf)"
      ],
      "metadata": {
        "colab": {
          "base_uri": "https://localhost:8080/",
          "height": 80
        },
        "id": "uxnLlmWSIg46",
        "outputId": "1a7f2a69-1f39-4489-8acd-b53045d07ef2"
      },
      "execution_count": null,
      "outputs": [
        {
          "output_type": "execute_result",
          "data": {
            "text/plain": [
              "LogisticRegression(max_iter=1000, random_state=42)"
            ],
            "text/html": [
              "<style>#sk-container-id-1 {\n",
              "  /* Definition of color scheme common for light and dark mode */\n",
              "  --sklearn-color-text: #000;\n",
              "  --sklearn-color-text-muted: #666;\n",
              "  --sklearn-color-line: gray;\n",
              "  /* Definition of color scheme for unfitted estimators */\n",
              "  --sklearn-color-unfitted-level-0: #fff5e6;\n",
              "  --sklearn-color-unfitted-level-1: #f6e4d2;\n",
              "  --sklearn-color-unfitted-level-2: #ffe0b3;\n",
              "  --sklearn-color-unfitted-level-3: chocolate;\n",
              "  /* Definition of color scheme for fitted estimators */\n",
              "  --sklearn-color-fitted-level-0: #f0f8ff;\n",
              "  --sklearn-color-fitted-level-1: #d4ebff;\n",
              "  --sklearn-color-fitted-level-2: #b3dbfd;\n",
              "  --sklearn-color-fitted-level-3: cornflowerblue;\n",
              "\n",
              "  /* Specific color for light theme */\n",
              "  --sklearn-color-text-on-default-background: var(--sg-text-color, var(--theme-code-foreground, var(--jp-content-font-color1, black)));\n",
              "  --sklearn-color-background: var(--sg-background-color, var(--theme-background, var(--jp-layout-color0, white)));\n",
              "  --sklearn-color-border-box: var(--sg-text-color, var(--theme-code-foreground, var(--jp-content-font-color1, black)));\n",
              "  --sklearn-color-icon: #696969;\n",
              "\n",
              "  @media (prefers-color-scheme: dark) {\n",
              "    /* Redefinition of color scheme for dark theme */\n",
              "    --sklearn-color-text-on-default-background: var(--sg-text-color, var(--theme-code-foreground, var(--jp-content-font-color1, white)));\n",
              "    --sklearn-color-background: var(--sg-background-color, var(--theme-background, var(--jp-layout-color0, #111)));\n",
              "    --sklearn-color-border-box: var(--sg-text-color, var(--theme-code-foreground, var(--jp-content-font-color1, white)));\n",
              "    --sklearn-color-icon: #878787;\n",
              "  }\n",
              "}\n",
              "\n",
              "#sk-container-id-1 {\n",
              "  color: var(--sklearn-color-text);\n",
              "}\n",
              "\n",
              "#sk-container-id-1 pre {\n",
              "  padding: 0;\n",
              "}\n",
              "\n",
              "#sk-container-id-1 input.sk-hidden--visually {\n",
              "  border: 0;\n",
              "  clip: rect(1px 1px 1px 1px);\n",
              "  clip: rect(1px, 1px, 1px, 1px);\n",
              "  height: 1px;\n",
              "  margin: -1px;\n",
              "  overflow: hidden;\n",
              "  padding: 0;\n",
              "  position: absolute;\n",
              "  width: 1px;\n",
              "}\n",
              "\n",
              "#sk-container-id-1 div.sk-dashed-wrapped {\n",
              "  border: 1px dashed var(--sklearn-color-line);\n",
              "  margin: 0 0.4em 0.5em 0.4em;\n",
              "  box-sizing: border-box;\n",
              "  padding-bottom: 0.4em;\n",
              "  background-color: var(--sklearn-color-background);\n",
              "}\n",
              "\n",
              "#sk-container-id-1 div.sk-container {\n",
              "  /* jupyter's `normalize.less` sets `[hidden] { display: none; }`\n",
              "     but bootstrap.min.css set `[hidden] { display: none !important; }`\n",
              "     so we also need the `!important` here to be able to override the\n",
              "     default hidden behavior on the sphinx rendered scikit-learn.org.\n",
              "     See: https://github.com/scikit-learn/scikit-learn/issues/21755 */\n",
              "  display: inline-block !important;\n",
              "  position: relative;\n",
              "}\n",
              "\n",
              "#sk-container-id-1 div.sk-text-repr-fallback {\n",
              "  display: none;\n",
              "}\n",
              "\n",
              "div.sk-parallel-item,\n",
              "div.sk-serial,\n",
              "div.sk-item {\n",
              "  /* draw centered vertical line to link estimators */\n",
              "  background-image: linear-gradient(var(--sklearn-color-text-on-default-background), var(--sklearn-color-text-on-default-background));\n",
              "  background-size: 2px 100%;\n",
              "  background-repeat: no-repeat;\n",
              "  background-position: center center;\n",
              "}\n",
              "\n",
              "/* Parallel-specific style estimator block */\n",
              "\n",
              "#sk-container-id-1 div.sk-parallel-item::after {\n",
              "  content: \"\";\n",
              "  width: 100%;\n",
              "  border-bottom: 2px solid var(--sklearn-color-text-on-default-background);\n",
              "  flex-grow: 1;\n",
              "}\n",
              "\n",
              "#sk-container-id-1 div.sk-parallel {\n",
              "  display: flex;\n",
              "  align-items: stretch;\n",
              "  justify-content: center;\n",
              "  background-color: var(--sklearn-color-background);\n",
              "  position: relative;\n",
              "}\n",
              "\n",
              "#sk-container-id-1 div.sk-parallel-item {\n",
              "  display: flex;\n",
              "  flex-direction: column;\n",
              "}\n",
              "\n",
              "#sk-container-id-1 div.sk-parallel-item:first-child::after {\n",
              "  align-self: flex-end;\n",
              "  width: 50%;\n",
              "}\n",
              "\n",
              "#sk-container-id-1 div.sk-parallel-item:last-child::after {\n",
              "  align-self: flex-start;\n",
              "  width: 50%;\n",
              "}\n",
              "\n",
              "#sk-container-id-1 div.sk-parallel-item:only-child::after {\n",
              "  width: 0;\n",
              "}\n",
              "\n",
              "/* Serial-specific style estimator block */\n",
              "\n",
              "#sk-container-id-1 div.sk-serial {\n",
              "  display: flex;\n",
              "  flex-direction: column;\n",
              "  align-items: center;\n",
              "  background-color: var(--sklearn-color-background);\n",
              "  padding-right: 1em;\n",
              "  padding-left: 1em;\n",
              "}\n",
              "\n",
              "\n",
              "/* Toggleable style: style used for estimator/Pipeline/ColumnTransformer box that is\n",
              "clickable and can be expanded/collapsed.\n",
              "- Pipeline and ColumnTransformer use this feature and define the default style\n",
              "- Estimators will overwrite some part of the style using the `sk-estimator` class\n",
              "*/\n",
              "\n",
              "/* Pipeline and ColumnTransformer style (default) */\n",
              "\n",
              "#sk-container-id-1 div.sk-toggleable {\n",
              "  /* Default theme specific background. It is overwritten whether we have a\n",
              "  specific estimator or a Pipeline/ColumnTransformer */\n",
              "  background-color: var(--sklearn-color-background);\n",
              "}\n",
              "\n",
              "/* Toggleable label */\n",
              "#sk-container-id-1 label.sk-toggleable__label {\n",
              "  cursor: pointer;\n",
              "  display: flex;\n",
              "  width: 100%;\n",
              "  margin-bottom: 0;\n",
              "  padding: 0.5em;\n",
              "  box-sizing: border-box;\n",
              "  text-align: center;\n",
              "  align-items: start;\n",
              "  justify-content: space-between;\n",
              "  gap: 0.5em;\n",
              "}\n",
              "\n",
              "#sk-container-id-1 label.sk-toggleable__label .caption {\n",
              "  font-size: 0.6rem;\n",
              "  font-weight: lighter;\n",
              "  color: var(--sklearn-color-text-muted);\n",
              "}\n",
              "\n",
              "#sk-container-id-1 label.sk-toggleable__label-arrow:before {\n",
              "  /* Arrow on the left of the label */\n",
              "  content: \"▸\";\n",
              "  float: left;\n",
              "  margin-right: 0.25em;\n",
              "  color: var(--sklearn-color-icon);\n",
              "}\n",
              "\n",
              "#sk-container-id-1 label.sk-toggleable__label-arrow:hover:before {\n",
              "  color: var(--sklearn-color-text);\n",
              "}\n",
              "\n",
              "/* Toggleable content - dropdown */\n",
              "\n",
              "#sk-container-id-1 div.sk-toggleable__content {\n",
              "  max-height: 0;\n",
              "  max-width: 0;\n",
              "  overflow: hidden;\n",
              "  text-align: left;\n",
              "  /* unfitted */\n",
              "  background-color: var(--sklearn-color-unfitted-level-0);\n",
              "}\n",
              "\n",
              "#sk-container-id-1 div.sk-toggleable__content.fitted {\n",
              "  /* fitted */\n",
              "  background-color: var(--sklearn-color-fitted-level-0);\n",
              "}\n",
              "\n",
              "#sk-container-id-1 div.sk-toggleable__content pre {\n",
              "  margin: 0.2em;\n",
              "  border-radius: 0.25em;\n",
              "  color: var(--sklearn-color-text);\n",
              "  /* unfitted */\n",
              "  background-color: var(--sklearn-color-unfitted-level-0);\n",
              "}\n",
              "\n",
              "#sk-container-id-1 div.sk-toggleable__content.fitted pre {\n",
              "  /* unfitted */\n",
              "  background-color: var(--sklearn-color-fitted-level-0);\n",
              "}\n",
              "\n",
              "#sk-container-id-1 input.sk-toggleable__control:checked~div.sk-toggleable__content {\n",
              "  /* Expand drop-down */\n",
              "  max-height: 200px;\n",
              "  max-width: 100%;\n",
              "  overflow: auto;\n",
              "}\n",
              "\n",
              "#sk-container-id-1 input.sk-toggleable__control:checked~label.sk-toggleable__label-arrow:before {\n",
              "  content: \"▾\";\n",
              "}\n",
              "\n",
              "/* Pipeline/ColumnTransformer-specific style */\n",
              "\n",
              "#sk-container-id-1 div.sk-label input.sk-toggleable__control:checked~label.sk-toggleable__label {\n",
              "  color: var(--sklearn-color-text);\n",
              "  background-color: var(--sklearn-color-unfitted-level-2);\n",
              "}\n",
              "\n",
              "#sk-container-id-1 div.sk-label.fitted input.sk-toggleable__control:checked~label.sk-toggleable__label {\n",
              "  background-color: var(--sklearn-color-fitted-level-2);\n",
              "}\n",
              "\n",
              "/* Estimator-specific style */\n",
              "\n",
              "/* Colorize estimator box */\n",
              "#sk-container-id-1 div.sk-estimator input.sk-toggleable__control:checked~label.sk-toggleable__label {\n",
              "  /* unfitted */\n",
              "  background-color: var(--sklearn-color-unfitted-level-2);\n",
              "}\n",
              "\n",
              "#sk-container-id-1 div.sk-estimator.fitted input.sk-toggleable__control:checked~label.sk-toggleable__label {\n",
              "  /* fitted */\n",
              "  background-color: var(--sklearn-color-fitted-level-2);\n",
              "}\n",
              "\n",
              "#sk-container-id-1 div.sk-label label.sk-toggleable__label,\n",
              "#sk-container-id-1 div.sk-label label {\n",
              "  /* The background is the default theme color */\n",
              "  color: var(--sklearn-color-text-on-default-background);\n",
              "}\n",
              "\n",
              "/* On hover, darken the color of the background */\n",
              "#sk-container-id-1 div.sk-label:hover label.sk-toggleable__label {\n",
              "  color: var(--sklearn-color-text);\n",
              "  background-color: var(--sklearn-color-unfitted-level-2);\n",
              "}\n",
              "\n",
              "/* Label box, darken color on hover, fitted */\n",
              "#sk-container-id-1 div.sk-label.fitted:hover label.sk-toggleable__label.fitted {\n",
              "  color: var(--sklearn-color-text);\n",
              "  background-color: var(--sklearn-color-fitted-level-2);\n",
              "}\n",
              "\n",
              "/* Estimator label */\n",
              "\n",
              "#sk-container-id-1 div.sk-label label {\n",
              "  font-family: monospace;\n",
              "  font-weight: bold;\n",
              "  display: inline-block;\n",
              "  line-height: 1.2em;\n",
              "}\n",
              "\n",
              "#sk-container-id-1 div.sk-label-container {\n",
              "  text-align: center;\n",
              "}\n",
              "\n",
              "/* Estimator-specific */\n",
              "#sk-container-id-1 div.sk-estimator {\n",
              "  font-family: monospace;\n",
              "  border: 1px dotted var(--sklearn-color-border-box);\n",
              "  border-radius: 0.25em;\n",
              "  box-sizing: border-box;\n",
              "  margin-bottom: 0.5em;\n",
              "  /* unfitted */\n",
              "  background-color: var(--sklearn-color-unfitted-level-0);\n",
              "}\n",
              "\n",
              "#sk-container-id-1 div.sk-estimator.fitted {\n",
              "  /* fitted */\n",
              "  background-color: var(--sklearn-color-fitted-level-0);\n",
              "}\n",
              "\n",
              "/* on hover */\n",
              "#sk-container-id-1 div.sk-estimator:hover {\n",
              "  /* unfitted */\n",
              "  background-color: var(--sklearn-color-unfitted-level-2);\n",
              "}\n",
              "\n",
              "#sk-container-id-1 div.sk-estimator.fitted:hover {\n",
              "  /* fitted */\n",
              "  background-color: var(--sklearn-color-fitted-level-2);\n",
              "}\n",
              "\n",
              "/* Specification for estimator info (e.g. \"i\" and \"?\") */\n",
              "\n",
              "/* Common style for \"i\" and \"?\" */\n",
              "\n",
              ".sk-estimator-doc-link,\n",
              "a:link.sk-estimator-doc-link,\n",
              "a:visited.sk-estimator-doc-link {\n",
              "  float: right;\n",
              "  font-size: smaller;\n",
              "  line-height: 1em;\n",
              "  font-family: monospace;\n",
              "  background-color: var(--sklearn-color-background);\n",
              "  border-radius: 1em;\n",
              "  height: 1em;\n",
              "  width: 1em;\n",
              "  text-decoration: none !important;\n",
              "  margin-left: 0.5em;\n",
              "  text-align: center;\n",
              "  /* unfitted */\n",
              "  border: var(--sklearn-color-unfitted-level-1) 1pt solid;\n",
              "  color: var(--sklearn-color-unfitted-level-1);\n",
              "}\n",
              "\n",
              ".sk-estimator-doc-link.fitted,\n",
              "a:link.sk-estimator-doc-link.fitted,\n",
              "a:visited.sk-estimator-doc-link.fitted {\n",
              "  /* fitted */\n",
              "  border: var(--sklearn-color-fitted-level-1) 1pt solid;\n",
              "  color: var(--sklearn-color-fitted-level-1);\n",
              "}\n",
              "\n",
              "/* On hover */\n",
              "div.sk-estimator:hover .sk-estimator-doc-link:hover,\n",
              ".sk-estimator-doc-link:hover,\n",
              "div.sk-label-container:hover .sk-estimator-doc-link:hover,\n",
              ".sk-estimator-doc-link:hover {\n",
              "  /* unfitted */\n",
              "  background-color: var(--sklearn-color-unfitted-level-3);\n",
              "  color: var(--sklearn-color-background);\n",
              "  text-decoration: none;\n",
              "}\n",
              "\n",
              "div.sk-estimator.fitted:hover .sk-estimator-doc-link.fitted:hover,\n",
              ".sk-estimator-doc-link.fitted:hover,\n",
              "div.sk-label-container:hover .sk-estimator-doc-link.fitted:hover,\n",
              ".sk-estimator-doc-link.fitted:hover {\n",
              "  /* fitted */\n",
              "  background-color: var(--sklearn-color-fitted-level-3);\n",
              "  color: var(--sklearn-color-background);\n",
              "  text-decoration: none;\n",
              "}\n",
              "\n",
              "/* Span, style for the box shown on hovering the info icon */\n",
              ".sk-estimator-doc-link span {\n",
              "  display: none;\n",
              "  z-index: 9999;\n",
              "  position: relative;\n",
              "  font-weight: normal;\n",
              "  right: .2ex;\n",
              "  padding: .5ex;\n",
              "  margin: .5ex;\n",
              "  width: min-content;\n",
              "  min-width: 20ex;\n",
              "  max-width: 50ex;\n",
              "  color: var(--sklearn-color-text);\n",
              "  box-shadow: 2pt 2pt 4pt #999;\n",
              "  /* unfitted */\n",
              "  background: var(--sklearn-color-unfitted-level-0);\n",
              "  border: .5pt solid var(--sklearn-color-unfitted-level-3);\n",
              "}\n",
              "\n",
              ".sk-estimator-doc-link.fitted span {\n",
              "  /* fitted */\n",
              "  background: var(--sklearn-color-fitted-level-0);\n",
              "  border: var(--sklearn-color-fitted-level-3);\n",
              "}\n",
              "\n",
              ".sk-estimator-doc-link:hover span {\n",
              "  display: block;\n",
              "}\n",
              "\n",
              "/* \"?\"-specific style due to the `<a>` HTML tag */\n",
              "\n",
              "#sk-container-id-1 a.estimator_doc_link {\n",
              "  float: right;\n",
              "  font-size: 1rem;\n",
              "  line-height: 1em;\n",
              "  font-family: monospace;\n",
              "  background-color: var(--sklearn-color-background);\n",
              "  border-radius: 1rem;\n",
              "  height: 1rem;\n",
              "  width: 1rem;\n",
              "  text-decoration: none;\n",
              "  /* unfitted */\n",
              "  color: var(--sklearn-color-unfitted-level-1);\n",
              "  border: var(--sklearn-color-unfitted-level-1) 1pt solid;\n",
              "}\n",
              "\n",
              "#sk-container-id-1 a.estimator_doc_link.fitted {\n",
              "  /* fitted */\n",
              "  border: var(--sklearn-color-fitted-level-1) 1pt solid;\n",
              "  color: var(--sklearn-color-fitted-level-1);\n",
              "}\n",
              "\n",
              "/* On hover */\n",
              "#sk-container-id-1 a.estimator_doc_link:hover {\n",
              "  /* unfitted */\n",
              "  background-color: var(--sklearn-color-unfitted-level-3);\n",
              "  color: var(--sklearn-color-background);\n",
              "  text-decoration: none;\n",
              "}\n",
              "\n",
              "#sk-container-id-1 a.estimator_doc_link.fitted:hover {\n",
              "  /* fitted */\n",
              "  background-color: var(--sklearn-color-fitted-level-3);\n",
              "}\n",
              "</style><div id=\"sk-container-id-1\" class=\"sk-top-container\"><div class=\"sk-text-repr-fallback\"><pre>LogisticRegression(max_iter=1000, random_state=42)</pre><b>In a Jupyter environment, please rerun this cell to show the HTML representation or trust the notebook. <br />On GitHub, the HTML representation is unable to render, please try loading this page with nbviewer.org.</b></div><div class=\"sk-container\" hidden><div class=\"sk-item\"><div class=\"sk-estimator fitted sk-toggleable\"><input class=\"sk-toggleable__control sk-hidden--visually\" id=\"sk-estimator-id-1\" type=\"checkbox\" checked><label for=\"sk-estimator-id-1\" class=\"sk-toggleable__label fitted sk-toggleable__label-arrow\"><div><div>LogisticRegression</div></div><div><a class=\"sk-estimator-doc-link fitted\" rel=\"noreferrer\" target=\"_blank\" href=\"https://scikit-learn.org/1.6/modules/generated/sklearn.linear_model.LogisticRegression.html\">?<span>Documentation for LogisticRegression</span></a><span class=\"sk-estimator-doc-link fitted\">i<span>Fitted</span></span></div></label><div class=\"sk-toggleable__content fitted\"><pre>LogisticRegression(max_iter=1000, random_state=42)</pre></div> </div></div></div></div>"
            ]
          },
          "metadata": {},
          "execution_count": 48
        }
      ]
    },
    {
      "cell_type": "markdown",
      "source": [
        "Оценка качества логистической регрессии"
      ],
      "metadata": {
        "id": "truZxYz2Ijdy"
      }
    },
    {
      "cell_type": "code",
      "source": [
        "y_pred_clf = logistic_model.predict(X_test_clf)\n",
        "classification_accuracy = accuracy_score(y_test_clf, y_pred_clf)\n",
        "print(f\"Accuracy для логистической регрессии: {classification_accuracy:.4f}\")"
      ],
      "metadata": {
        "colab": {
          "base_uri": "https://localhost:8080/"
        },
        "id": "Pbz2uy7AInQc",
        "outputId": "336db74a-c9c1-4d1a-d784-356e1ac9c42d"
      },
      "execution_count": null,
      "outputs": [
        {
          "output_type": "stream",
          "name": "stdout",
          "text": [
            "Accuracy для логистической регрессии: 0.4246\n"
          ]
        }
      ]
    },
    {
      "cell_type": "markdown",
      "source": [
        "Обучение модели линейной регрессии (регрессия)"
      ],
      "metadata": {
        "id": "pa88Ekd8IqeR"
      }
    },
    {
      "cell_type": "code",
      "source": [
        "linear_model = LinearRegression()\n",
        "linear_model.fit(X_train_reg, y_train_reg)"
      ],
      "metadata": {
        "colab": {
          "base_uri": "https://localhost:8080/",
          "height": 80
        },
        "id": "YsamSOvHIsfd",
        "outputId": "db869c83-4ebf-44d0-c4c1-de91eed7f176"
      },
      "execution_count": null,
      "outputs": [
        {
          "output_type": "execute_result",
          "data": {
            "text/plain": [
              "LinearRegression()"
            ],
            "text/html": [
              "<style>#sk-container-id-2 {\n",
              "  /* Definition of color scheme common for light and dark mode */\n",
              "  --sklearn-color-text: #000;\n",
              "  --sklearn-color-text-muted: #666;\n",
              "  --sklearn-color-line: gray;\n",
              "  /* Definition of color scheme for unfitted estimators */\n",
              "  --sklearn-color-unfitted-level-0: #fff5e6;\n",
              "  --sklearn-color-unfitted-level-1: #f6e4d2;\n",
              "  --sklearn-color-unfitted-level-2: #ffe0b3;\n",
              "  --sklearn-color-unfitted-level-3: chocolate;\n",
              "  /* Definition of color scheme for fitted estimators */\n",
              "  --sklearn-color-fitted-level-0: #f0f8ff;\n",
              "  --sklearn-color-fitted-level-1: #d4ebff;\n",
              "  --sklearn-color-fitted-level-2: #b3dbfd;\n",
              "  --sklearn-color-fitted-level-3: cornflowerblue;\n",
              "\n",
              "  /* Specific color for light theme */\n",
              "  --sklearn-color-text-on-default-background: var(--sg-text-color, var(--theme-code-foreground, var(--jp-content-font-color1, black)));\n",
              "  --sklearn-color-background: var(--sg-background-color, var(--theme-background, var(--jp-layout-color0, white)));\n",
              "  --sklearn-color-border-box: var(--sg-text-color, var(--theme-code-foreground, var(--jp-content-font-color1, black)));\n",
              "  --sklearn-color-icon: #696969;\n",
              "\n",
              "  @media (prefers-color-scheme: dark) {\n",
              "    /* Redefinition of color scheme for dark theme */\n",
              "    --sklearn-color-text-on-default-background: var(--sg-text-color, var(--theme-code-foreground, var(--jp-content-font-color1, white)));\n",
              "    --sklearn-color-background: var(--sg-background-color, var(--theme-background, var(--jp-layout-color0, #111)));\n",
              "    --sklearn-color-border-box: var(--sg-text-color, var(--theme-code-foreground, var(--jp-content-font-color1, white)));\n",
              "    --sklearn-color-icon: #878787;\n",
              "  }\n",
              "}\n",
              "\n",
              "#sk-container-id-2 {\n",
              "  color: var(--sklearn-color-text);\n",
              "}\n",
              "\n",
              "#sk-container-id-2 pre {\n",
              "  padding: 0;\n",
              "}\n",
              "\n",
              "#sk-container-id-2 input.sk-hidden--visually {\n",
              "  border: 0;\n",
              "  clip: rect(1px 1px 1px 1px);\n",
              "  clip: rect(1px, 1px, 1px, 1px);\n",
              "  height: 1px;\n",
              "  margin: -1px;\n",
              "  overflow: hidden;\n",
              "  padding: 0;\n",
              "  position: absolute;\n",
              "  width: 1px;\n",
              "}\n",
              "\n",
              "#sk-container-id-2 div.sk-dashed-wrapped {\n",
              "  border: 1px dashed var(--sklearn-color-line);\n",
              "  margin: 0 0.4em 0.5em 0.4em;\n",
              "  box-sizing: border-box;\n",
              "  padding-bottom: 0.4em;\n",
              "  background-color: var(--sklearn-color-background);\n",
              "}\n",
              "\n",
              "#sk-container-id-2 div.sk-container {\n",
              "  /* jupyter's `normalize.less` sets `[hidden] { display: none; }`\n",
              "     but bootstrap.min.css set `[hidden] { display: none !important; }`\n",
              "     so we also need the `!important` here to be able to override the\n",
              "     default hidden behavior on the sphinx rendered scikit-learn.org.\n",
              "     See: https://github.com/scikit-learn/scikit-learn/issues/21755 */\n",
              "  display: inline-block !important;\n",
              "  position: relative;\n",
              "}\n",
              "\n",
              "#sk-container-id-2 div.sk-text-repr-fallback {\n",
              "  display: none;\n",
              "}\n",
              "\n",
              "div.sk-parallel-item,\n",
              "div.sk-serial,\n",
              "div.sk-item {\n",
              "  /* draw centered vertical line to link estimators */\n",
              "  background-image: linear-gradient(var(--sklearn-color-text-on-default-background), var(--sklearn-color-text-on-default-background));\n",
              "  background-size: 2px 100%;\n",
              "  background-repeat: no-repeat;\n",
              "  background-position: center center;\n",
              "}\n",
              "\n",
              "/* Parallel-specific style estimator block */\n",
              "\n",
              "#sk-container-id-2 div.sk-parallel-item::after {\n",
              "  content: \"\";\n",
              "  width: 100%;\n",
              "  border-bottom: 2px solid var(--sklearn-color-text-on-default-background);\n",
              "  flex-grow: 1;\n",
              "}\n",
              "\n",
              "#sk-container-id-2 div.sk-parallel {\n",
              "  display: flex;\n",
              "  align-items: stretch;\n",
              "  justify-content: center;\n",
              "  background-color: var(--sklearn-color-background);\n",
              "  position: relative;\n",
              "}\n",
              "\n",
              "#sk-container-id-2 div.sk-parallel-item {\n",
              "  display: flex;\n",
              "  flex-direction: column;\n",
              "}\n",
              "\n",
              "#sk-container-id-2 div.sk-parallel-item:first-child::after {\n",
              "  align-self: flex-end;\n",
              "  width: 50%;\n",
              "}\n",
              "\n",
              "#sk-container-id-2 div.sk-parallel-item:last-child::after {\n",
              "  align-self: flex-start;\n",
              "  width: 50%;\n",
              "}\n",
              "\n",
              "#sk-container-id-2 div.sk-parallel-item:only-child::after {\n",
              "  width: 0;\n",
              "}\n",
              "\n",
              "/* Serial-specific style estimator block */\n",
              "\n",
              "#sk-container-id-2 div.sk-serial {\n",
              "  display: flex;\n",
              "  flex-direction: column;\n",
              "  align-items: center;\n",
              "  background-color: var(--sklearn-color-background);\n",
              "  padding-right: 1em;\n",
              "  padding-left: 1em;\n",
              "}\n",
              "\n",
              "\n",
              "/* Toggleable style: style used for estimator/Pipeline/ColumnTransformer box that is\n",
              "clickable and can be expanded/collapsed.\n",
              "- Pipeline and ColumnTransformer use this feature and define the default style\n",
              "- Estimators will overwrite some part of the style using the `sk-estimator` class\n",
              "*/\n",
              "\n",
              "/* Pipeline and ColumnTransformer style (default) */\n",
              "\n",
              "#sk-container-id-2 div.sk-toggleable {\n",
              "  /* Default theme specific background. It is overwritten whether we have a\n",
              "  specific estimator or a Pipeline/ColumnTransformer */\n",
              "  background-color: var(--sklearn-color-background);\n",
              "}\n",
              "\n",
              "/* Toggleable label */\n",
              "#sk-container-id-2 label.sk-toggleable__label {\n",
              "  cursor: pointer;\n",
              "  display: flex;\n",
              "  width: 100%;\n",
              "  margin-bottom: 0;\n",
              "  padding: 0.5em;\n",
              "  box-sizing: border-box;\n",
              "  text-align: center;\n",
              "  align-items: start;\n",
              "  justify-content: space-between;\n",
              "  gap: 0.5em;\n",
              "}\n",
              "\n",
              "#sk-container-id-2 label.sk-toggleable__label .caption {\n",
              "  font-size: 0.6rem;\n",
              "  font-weight: lighter;\n",
              "  color: var(--sklearn-color-text-muted);\n",
              "}\n",
              "\n",
              "#sk-container-id-2 label.sk-toggleable__label-arrow:before {\n",
              "  /* Arrow on the left of the label */\n",
              "  content: \"▸\";\n",
              "  float: left;\n",
              "  margin-right: 0.25em;\n",
              "  color: var(--sklearn-color-icon);\n",
              "}\n",
              "\n",
              "#sk-container-id-2 label.sk-toggleable__label-arrow:hover:before {\n",
              "  color: var(--sklearn-color-text);\n",
              "}\n",
              "\n",
              "/* Toggleable content - dropdown */\n",
              "\n",
              "#sk-container-id-2 div.sk-toggleable__content {\n",
              "  max-height: 0;\n",
              "  max-width: 0;\n",
              "  overflow: hidden;\n",
              "  text-align: left;\n",
              "  /* unfitted */\n",
              "  background-color: var(--sklearn-color-unfitted-level-0);\n",
              "}\n",
              "\n",
              "#sk-container-id-2 div.sk-toggleable__content.fitted {\n",
              "  /* fitted */\n",
              "  background-color: var(--sklearn-color-fitted-level-0);\n",
              "}\n",
              "\n",
              "#sk-container-id-2 div.sk-toggleable__content pre {\n",
              "  margin: 0.2em;\n",
              "  border-radius: 0.25em;\n",
              "  color: var(--sklearn-color-text);\n",
              "  /* unfitted */\n",
              "  background-color: var(--sklearn-color-unfitted-level-0);\n",
              "}\n",
              "\n",
              "#sk-container-id-2 div.sk-toggleable__content.fitted pre {\n",
              "  /* unfitted */\n",
              "  background-color: var(--sklearn-color-fitted-level-0);\n",
              "}\n",
              "\n",
              "#sk-container-id-2 input.sk-toggleable__control:checked~div.sk-toggleable__content {\n",
              "  /* Expand drop-down */\n",
              "  max-height: 200px;\n",
              "  max-width: 100%;\n",
              "  overflow: auto;\n",
              "}\n",
              "\n",
              "#sk-container-id-2 input.sk-toggleable__control:checked~label.sk-toggleable__label-arrow:before {\n",
              "  content: \"▾\";\n",
              "}\n",
              "\n",
              "/* Pipeline/ColumnTransformer-specific style */\n",
              "\n",
              "#sk-container-id-2 div.sk-label input.sk-toggleable__control:checked~label.sk-toggleable__label {\n",
              "  color: var(--sklearn-color-text);\n",
              "  background-color: var(--sklearn-color-unfitted-level-2);\n",
              "}\n",
              "\n",
              "#sk-container-id-2 div.sk-label.fitted input.sk-toggleable__control:checked~label.sk-toggleable__label {\n",
              "  background-color: var(--sklearn-color-fitted-level-2);\n",
              "}\n",
              "\n",
              "/* Estimator-specific style */\n",
              "\n",
              "/* Colorize estimator box */\n",
              "#sk-container-id-2 div.sk-estimator input.sk-toggleable__control:checked~label.sk-toggleable__label {\n",
              "  /* unfitted */\n",
              "  background-color: var(--sklearn-color-unfitted-level-2);\n",
              "}\n",
              "\n",
              "#sk-container-id-2 div.sk-estimator.fitted input.sk-toggleable__control:checked~label.sk-toggleable__label {\n",
              "  /* fitted */\n",
              "  background-color: var(--sklearn-color-fitted-level-2);\n",
              "}\n",
              "\n",
              "#sk-container-id-2 div.sk-label label.sk-toggleable__label,\n",
              "#sk-container-id-2 div.sk-label label {\n",
              "  /* The background is the default theme color */\n",
              "  color: var(--sklearn-color-text-on-default-background);\n",
              "}\n",
              "\n",
              "/* On hover, darken the color of the background */\n",
              "#sk-container-id-2 div.sk-label:hover label.sk-toggleable__label {\n",
              "  color: var(--sklearn-color-text);\n",
              "  background-color: var(--sklearn-color-unfitted-level-2);\n",
              "}\n",
              "\n",
              "/* Label box, darken color on hover, fitted */\n",
              "#sk-container-id-2 div.sk-label.fitted:hover label.sk-toggleable__label.fitted {\n",
              "  color: var(--sklearn-color-text);\n",
              "  background-color: var(--sklearn-color-fitted-level-2);\n",
              "}\n",
              "\n",
              "/* Estimator label */\n",
              "\n",
              "#sk-container-id-2 div.sk-label label {\n",
              "  font-family: monospace;\n",
              "  font-weight: bold;\n",
              "  display: inline-block;\n",
              "  line-height: 1.2em;\n",
              "}\n",
              "\n",
              "#sk-container-id-2 div.sk-label-container {\n",
              "  text-align: center;\n",
              "}\n",
              "\n",
              "/* Estimator-specific */\n",
              "#sk-container-id-2 div.sk-estimator {\n",
              "  font-family: monospace;\n",
              "  border: 1px dotted var(--sklearn-color-border-box);\n",
              "  border-radius: 0.25em;\n",
              "  box-sizing: border-box;\n",
              "  margin-bottom: 0.5em;\n",
              "  /* unfitted */\n",
              "  background-color: var(--sklearn-color-unfitted-level-0);\n",
              "}\n",
              "\n",
              "#sk-container-id-2 div.sk-estimator.fitted {\n",
              "  /* fitted */\n",
              "  background-color: var(--sklearn-color-fitted-level-0);\n",
              "}\n",
              "\n",
              "/* on hover */\n",
              "#sk-container-id-2 div.sk-estimator:hover {\n",
              "  /* unfitted */\n",
              "  background-color: var(--sklearn-color-unfitted-level-2);\n",
              "}\n",
              "\n",
              "#sk-container-id-2 div.sk-estimator.fitted:hover {\n",
              "  /* fitted */\n",
              "  background-color: var(--sklearn-color-fitted-level-2);\n",
              "}\n",
              "\n",
              "/* Specification for estimator info (e.g. \"i\" and \"?\") */\n",
              "\n",
              "/* Common style for \"i\" and \"?\" */\n",
              "\n",
              ".sk-estimator-doc-link,\n",
              "a:link.sk-estimator-doc-link,\n",
              "a:visited.sk-estimator-doc-link {\n",
              "  float: right;\n",
              "  font-size: smaller;\n",
              "  line-height: 1em;\n",
              "  font-family: monospace;\n",
              "  background-color: var(--sklearn-color-background);\n",
              "  border-radius: 1em;\n",
              "  height: 1em;\n",
              "  width: 1em;\n",
              "  text-decoration: none !important;\n",
              "  margin-left: 0.5em;\n",
              "  text-align: center;\n",
              "  /* unfitted */\n",
              "  border: var(--sklearn-color-unfitted-level-1) 1pt solid;\n",
              "  color: var(--sklearn-color-unfitted-level-1);\n",
              "}\n",
              "\n",
              ".sk-estimator-doc-link.fitted,\n",
              "a:link.sk-estimator-doc-link.fitted,\n",
              "a:visited.sk-estimator-doc-link.fitted {\n",
              "  /* fitted */\n",
              "  border: var(--sklearn-color-fitted-level-1) 1pt solid;\n",
              "  color: var(--sklearn-color-fitted-level-1);\n",
              "}\n",
              "\n",
              "/* On hover */\n",
              "div.sk-estimator:hover .sk-estimator-doc-link:hover,\n",
              ".sk-estimator-doc-link:hover,\n",
              "div.sk-label-container:hover .sk-estimator-doc-link:hover,\n",
              ".sk-estimator-doc-link:hover {\n",
              "  /* unfitted */\n",
              "  background-color: var(--sklearn-color-unfitted-level-3);\n",
              "  color: var(--sklearn-color-background);\n",
              "  text-decoration: none;\n",
              "}\n",
              "\n",
              "div.sk-estimator.fitted:hover .sk-estimator-doc-link.fitted:hover,\n",
              ".sk-estimator-doc-link.fitted:hover,\n",
              "div.sk-label-container:hover .sk-estimator-doc-link.fitted:hover,\n",
              ".sk-estimator-doc-link.fitted:hover {\n",
              "  /* fitted */\n",
              "  background-color: var(--sklearn-color-fitted-level-3);\n",
              "  color: var(--sklearn-color-background);\n",
              "  text-decoration: none;\n",
              "}\n",
              "\n",
              "/* Span, style for the box shown on hovering the info icon */\n",
              ".sk-estimator-doc-link span {\n",
              "  display: none;\n",
              "  z-index: 9999;\n",
              "  position: relative;\n",
              "  font-weight: normal;\n",
              "  right: .2ex;\n",
              "  padding: .5ex;\n",
              "  margin: .5ex;\n",
              "  width: min-content;\n",
              "  min-width: 20ex;\n",
              "  max-width: 50ex;\n",
              "  color: var(--sklearn-color-text);\n",
              "  box-shadow: 2pt 2pt 4pt #999;\n",
              "  /* unfitted */\n",
              "  background: var(--sklearn-color-unfitted-level-0);\n",
              "  border: .5pt solid var(--sklearn-color-unfitted-level-3);\n",
              "}\n",
              "\n",
              ".sk-estimator-doc-link.fitted span {\n",
              "  /* fitted */\n",
              "  background: var(--sklearn-color-fitted-level-0);\n",
              "  border: var(--sklearn-color-fitted-level-3);\n",
              "}\n",
              "\n",
              ".sk-estimator-doc-link:hover span {\n",
              "  display: block;\n",
              "}\n",
              "\n",
              "/* \"?\"-specific style due to the `<a>` HTML tag */\n",
              "\n",
              "#sk-container-id-2 a.estimator_doc_link {\n",
              "  float: right;\n",
              "  font-size: 1rem;\n",
              "  line-height: 1em;\n",
              "  font-family: monospace;\n",
              "  background-color: var(--sklearn-color-background);\n",
              "  border-radius: 1rem;\n",
              "  height: 1rem;\n",
              "  width: 1rem;\n",
              "  text-decoration: none;\n",
              "  /* unfitted */\n",
              "  color: var(--sklearn-color-unfitted-level-1);\n",
              "  border: var(--sklearn-color-unfitted-level-1) 1pt solid;\n",
              "}\n",
              "\n",
              "#sk-container-id-2 a.estimator_doc_link.fitted {\n",
              "  /* fitted */\n",
              "  border: var(--sklearn-color-fitted-level-1) 1pt solid;\n",
              "  color: var(--sklearn-color-fitted-level-1);\n",
              "}\n",
              "\n",
              "/* On hover */\n",
              "#sk-container-id-2 a.estimator_doc_link:hover {\n",
              "  /* unfitted */\n",
              "  background-color: var(--sklearn-color-unfitted-level-3);\n",
              "  color: var(--sklearn-color-background);\n",
              "  text-decoration: none;\n",
              "}\n",
              "\n",
              "#sk-container-id-2 a.estimator_doc_link.fitted:hover {\n",
              "  /* fitted */\n",
              "  background-color: var(--sklearn-color-fitted-level-3);\n",
              "}\n",
              "</style><div id=\"sk-container-id-2\" class=\"sk-top-container\"><div class=\"sk-text-repr-fallback\"><pre>LinearRegression()</pre><b>In a Jupyter environment, please rerun this cell to show the HTML representation or trust the notebook. <br />On GitHub, the HTML representation is unable to render, please try loading this page with nbviewer.org.</b></div><div class=\"sk-container\" hidden><div class=\"sk-item\"><div class=\"sk-estimator fitted sk-toggleable\"><input class=\"sk-toggleable__control sk-hidden--visually\" id=\"sk-estimator-id-2\" type=\"checkbox\" checked><label for=\"sk-estimator-id-2\" class=\"sk-toggleable__label fitted sk-toggleable__label-arrow\"><div><div>LinearRegression</div></div><div><a class=\"sk-estimator-doc-link fitted\" rel=\"noreferrer\" target=\"_blank\" href=\"https://scikit-learn.org/1.6/modules/generated/sklearn.linear_model.LinearRegression.html\">?<span>Documentation for LinearRegression</span></a><span class=\"sk-estimator-doc-link fitted\">i<span>Fitted</span></span></div></label><div class=\"sk-toggleable__content fitted\"><pre>LinearRegression()</pre></div> </div></div></div></div>"
            ]
          },
          "metadata": {},
          "execution_count": 50
        }
      ]
    },
    {
      "cell_type": "markdown",
      "source": [
        "Оценка качества линейной регрессии"
      ],
      "metadata": {
        "id": "j5EGiTlIIwQj"
      }
    },
    {
      "cell_type": "code",
      "source": [
        "y_pred_reg = linear_model.predict(X_test_reg)\n",
        "regression_r2 = r2_score(y_test_reg, y_pred_reg)\n",
        "print(f\"R² для линейной регрессии: {regression_r2:.4f}\")"
      ],
      "metadata": {
        "colab": {
          "base_uri": "https://localhost:8080/"
        },
        "id": "JpB7pEGjIu1B",
        "outputId": "4b46cbbe-781d-48e9-cdac-cd2a81ec9a9c"
      },
      "execution_count": null,
      "outputs": [
        {
          "output_type": "stream",
          "name": "stdout",
          "text": [
            "R² для линейной регрессии: 0.0397\n"
          ]
        }
      ]
    },
    {
      "cell_type": "markdown",
      "source": [
        "## Улучшение бейзлайна\n",
        "\n"
      ],
      "metadata": {
        "id": "DGhk70O8JYdI"
      }
    },
    {
      "cell_type": "markdown",
      "source": [
        "Добавление взаимодействий между признаками"
      ],
      "metadata": {
        "id": "ipYrRGVWJbwd"
      }
    },
    {
      "cell_type": "code",
      "source": [
        "from sklearn.preprocessing import PolynomialFeatures\n",
        "\n",
        "poly = PolynomialFeatures(degree=2, interaction_only=True, include_bias=False)\n",
        "X_classification = poly.fit_transform(X_classification)\n",
        "X_regression = poly.fit_transform(X_regression)"
      ],
      "metadata": {
        "id": "p-72KyzZJdGb"
      },
      "execution_count": null,
      "outputs": []
    },
    {
      "cell_type": "markdown",
      "source": [
        "Разделение на обучающую и тестовую выборки"
      ],
      "metadata": {
        "id": "kE7uJNXiJlmt"
      }
    },
    {
      "cell_type": "code",
      "source": [
        "X_train_clf, X_test_clf, y_train_clf, y_test_clf = train_test_split(X_classification, y_classification, test_size=0.2, random_state=42)\n",
        "X_train_reg, X_test_reg, y_train_reg, y_test_reg = train_test_split(X_regression, y_regression, test_size=0.2, random_state=42)\n",
        "scaler = StandardScaler()\n",
        "X_train_clf = scaler.fit_transform(X_train_clf)\n",
        "X_test_clf = scaler.transform(X_test_clf)\n",
        "X_train_reg = scaler.fit_transform(X_train_reg)\n",
        "X_test_reg = scaler.transform(X_test_reg)\n"
      ],
      "metadata": {
        "id": "vy-do5zNJl6p"
      },
      "execution_count": null,
      "outputs": []
    },
    {
      "cell_type": "markdown",
      "source": [
        "Подбор гиперпараметров для логистической регрессии"
      ],
      "metadata": {
        "id": "kuOzUdq2JnwS"
      }
    },
    {
      "cell_type": "code",
      "source": [
        "logistic_model = LogisticRegression(max_iter=1000, random_state=42)\n",
        "param_grid_clf = {'C': [0.01, 0.1, 1, 10, 100]}\n",
        "grid_search_clf = GridSearchCV(logistic_model, param_grid_clf, cv=5, scoring='accuracy')\n",
        "grid_search_clf.fit(X_train_clf, y_train_clf)\n",
        "best_logistic_model = grid_search_clf.best_estimator_"
      ],
      "metadata": {
        "id": "Vh8isc95Jv0M"
      },
      "execution_count": null,
      "outputs": []
    },
    {
      "cell_type": "markdown",
      "source": [
        "Оценка качества логистической регрессии"
      ],
      "metadata": {
        "id": "fLUrUcMZJyda"
      }
    },
    {
      "cell_type": "code",
      "source": [
        "y_pred_clf = best_logistic_model.predict(X_test_clf)\n",
        "classification_accuracy = accuracy_score(y_test_clf, y_pred_clf)\n",
        "print(f\"Accuracy для логистической регрессии (улучшенный бейзлайн): {classification_accuracy:.4f}\")"
      ],
      "metadata": {
        "colab": {
          "base_uri": "https://localhost:8080/"
        },
        "id": "j1uhGLKTJz49",
        "outputId": "4eeda295-8c79-47d7-cdbb-9e801f2dc4b9"
      },
      "execution_count": null,
      "outputs": [
        {
          "output_type": "stream",
          "name": "stdout",
          "text": [
            "Accuracy для логистической регрессии (улучшенный бейзлайн): 0.4547\n"
          ]
        }
      ]
    },
    {
      "cell_type": "markdown",
      "source": [
        "Подбор гиперпараметров для линейной регрессии"
      ],
      "metadata": {
        "id": "u67y9ifmJ2Zl"
      }
    },
    {
      "cell_type": "code",
      "source": [
        "from sklearn.linear_model import Ridge\n",
        "\n",
        "ridge_model = Ridge()\n",
        "param_grid_reg = {'alpha': [0.1, 1, 10, 100, 1000]}\n",
        "grid_search_reg = GridSearchCV(ridge_model, param_grid_reg, cv=5, scoring='r2')\n",
        "grid_search_reg.fit(X_train_reg, y_train_reg)\n",
        "best_ridge_model = grid_search_reg.best_estimator_"
      ],
      "metadata": {
        "id": "PLcQPjbYJ3Yj"
      },
      "execution_count": null,
      "outputs": []
    },
    {
      "cell_type": "markdown",
      "source": [
        "Оценка качества линейной регрессии"
      ],
      "metadata": {
        "id": "1772p0_5J4ky"
      }
    },
    {
      "cell_type": "code",
      "source": [
        "y_pred_reg = best_ridge_model.predict(X_test_reg)\n",
        "regression_r2 = r2_score(y_test_reg, y_pred_reg)\n",
        "print(f\"R² для линейной регрессии (улучшенный бейзлайн): {regression_r2:.4f}\")"
      ],
      "metadata": {
        "colab": {
          "base_uri": "https://localhost:8080/"
        },
        "id": "wqluWc_LJ5vm",
        "outputId": "a1159d09-c1d8-4370-e9f6-c699b5708a9e"
      },
      "execution_count": null,
      "outputs": [
        {
          "output_type": "stream",
          "name": "stdout",
          "text": [
            "R² для линейной регрессии (улучшенный бейзлайн): 0.0466\n"
          ]
        }
      ]
    },
    {
      "cell_type": "markdown",
      "source": [
        "## Сравнение результатов и выводы"
      ],
      "metadata": {
        "id": "8sn4JL_QOaIx"
      }
    },
    {
      "cell_type": "markdown",
      "source": [
        "1. Логистическая регрессия:\n",
        "\n",
        "- Базовый бейзлайн: Accuracy = 0.4246\n",
        "- Улучшенный бейзлайн: Accuracy = 0.4547\n",
        "- Разница: +0.0301\n",
        "\n",
        "Улучшение качества логистической регрессии связано с добавлением полиномиальных взаимодействий между признаками и использованием подбора гиперпараметра регуляризации C. Это говорит о том, что учет нелинейных связей между признаками и оптимизация гиперпараметров повышают точность классификации.\n",
        "\n",
        "2. Линейная регрессия:\n",
        "\n",
        "- Базовый бейзлайн: R² = 0.0397\n",
        "- Улучшенный бейзлайн: R² = 0.0466\n",
        "- Разница: +0.0069\n",
        "\n",
        "В случае линейной регрессии улучшение менее значительное. Добавление полиномиальных взаимодействий и использование регуляризации (Ridge) помогает немного увеличить объяснённую дисперсию. Однако R² всё ещё остаётся низким, что может указывать на недостаточную выразительность модели для предсказания популярности."
      ],
      "metadata": {
        "id": "Nq0QNyNyOjqZ"
      }
    },
    {
      "cell_type": "markdown",
      "source": [
        "# Имплементация алгоритма машинного обучения"
      ],
      "metadata": {
        "id": "SpvFKbpyPVj8"
      }
    },
    {
      "cell_type": "code",
      "source": [
        "# Реализация линейной регрессии\n",
        "class LinearRegressionGD:\n",
        "    def __init__(self, learning_rate=0.01, n_iterations=1000):\n",
        "        self.learning_rate = learning_rate\n",
        "        self.n_iterations = n_iterations\n",
        "        self.weights = None\n",
        "        self.bias = None\n",
        "\n",
        "    def fit(self, X, y):\n",
        "        n_samples, n_features = X.shape\n",
        "        self.weights = np.zeros(n_features)\n",
        "        self.bias = 0\n",
        "\n",
        "        for _ in range(self.n_iterations):\n",
        "            y_predicted = np.dot(X, self.weights) + self.bias\n",
        "            dw = (1 / n_samples) * np.dot(X.T, (y_predicted - y))\n",
        "            db = (1 / n_samples) * np.sum(y_predicted - y)\n",
        "\n",
        "            self.weights -= self.learning_rate * dw\n",
        "            self.bias -= self.learning_rate * db\n",
        "\n",
        "    def predict(self, X):\n",
        "        return np.dot(X, self.weights) + self.bias\n",
        "\n",
        "# Реализация логистической регрессии\n",
        "class LogisticRegressionGD:\n",
        "    def __init__(self, learning_rate=0.01, n_iterations=1000):\n",
        "        self.learning_rate = learning_rate\n",
        "        self.n_iterations = n_iterations\n",
        "        self.weights = None\n",
        "        self.bias = None\n",
        "\n",
        "    def sigmoid(self, z):\n",
        "        return 1 / (1 + np.exp(-z))\n",
        "\n",
        "    def fit(self, X, y):\n",
        "        n_samples, n_features = X.shape\n",
        "        self.weights = np.zeros(n_features)\n",
        "        self.bias = 0\n",
        "\n",
        "        for _ in range(self.n_iterations):\n",
        "            linear_model = np.dot(X, self.weights) + self.bias\n",
        "            y_predicted = self.sigmoid(linear_model)\n",
        "\n",
        "            dw = (1 / n_samples) * np.dot(X.T, (y_predicted - y))\n",
        "            db = (1 / n_samples) * np.sum(y_predicted - y)\n",
        "\n",
        "            self.weights -= self.learning_rate * dw\n",
        "            self.bias -= self.learning_rate * db\n",
        "\n",
        "    def predict(self, X):\n",
        "        linear_model = np.dot(X, self.weights) + self.bias\n",
        "        y_predicted = self.sigmoid(linear_model)\n",
        "        return [1 if i > 0.5 else 0 for i in y_predicted]\n",
        "\n",
        "# Обучение линейной регрессии\n",
        "linear_model = LinearRegressionGD(learning_rate=0.01, n_iterations=1000)\n",
        "linear_model.fit(X_train_reg, y_train_reg)\n",
        "y_pred_reg = linear_model.predict(X_test_reg)\n",
        "regression_r2 = r2_score(y_test_reg, y_pred_reg)\n",
        "print(f\"R² для линейной регрессии (реализованная модель): {regression_r2:.4f}\")\n",
        "\n",
        "# Подготовка данных для логистической регрессии (бинаризация классов)\n",
        "y_train_clf_binary = (y_train_clf == y_train_clf.mode()[0]).astype(int)\n",
        "y_test_clf_binary = (y_test_clf == y_test_clf.mode()[0]).astype(int)\n",
        "\n",
        "logistic_model = LogisticRegressionGD(learning_rate=0.01, n_iterations=1000)\n",
        "logistic_model.fit(X_train_clf, y_train_clf_binary)\n",
        "y_pred_clf = logistic_model.predict(X_test_clf)\n",
        "classification_accuracy = accuracy_score(y_test_clf_binary, y_pred_clf)\n",
        "print(f\"Accuracy для логистической регрессии (реализованная модель): {classification_accuracy:.4f}\")"
      ],
      "metadata": {
        "colab": {
          "base_uri": "https://localhost:8080/"
        },
        "id": "s9quUgz-PY6e",
        "outputId": "56990550-1303-441b-8282-3a2b3df99778"
      },
      "execution_count": null,
      "outputs": [
        {
          "output_type": "stream",
          "name": "stdout",
          "text": [
            "R² для линейной регрессии (реализованная модель): 0.0456\n",
            "Accuracy для логистической регрессии (реализованная модель): 0.7075\n"
          ]
        }
      ]
    },
    {
      "cell_type": "markdown",
      "source": [
        "## Сравнение результатов и вывод"
      ],
      "metadata": {
        "id": "5YEO_ag3P1GA"
      }
    },
    {
      "cell_type": "markdown",
      "source": [
        "1. Логистическая регрессия:\n",
        "\n",
        "- Базовый бейзлайн (из пункта 1): Accuracy = 0.4246\n",
        "- Реализованная модель: Accuracy = 0.7075\n",
        "- Разница: +0.2829\n",
        "\n",
        "Улучшение точности классификации указывает на то, что вручную реализованная логистическая регрессия с градиентным спуском показала значительно лучшие результаты. Это может быть связано с разными гиперпараметрами обучения (например, числом итераций или шагом градиента) или особенностями реализации.\n",
        "\n",
        "2. Линейная регрессия:\n",
        "\n",
        "- Базовый бейзлайн (из пункта 1): R² = 0.0397\n",
        "- Реализованная модель: R² = 0.0456\n",
        "- Разница: +0.0059\n",
        "\n",
        "В случае линейной регрессии реализованная модель также показала небольшой прирост в качестве, но результат всё ещё остается низким. Это подтверждает, что задача предсказания популярности трека требует более сложных подходов, чем простая линейная регрессия."
      ],
      "metadata": {
        "id": "8oOKh-CwQt7a"
      }
    },
    {
      "cell_type": "markdown",
      "source": [
        "## Улучшение бейзлайна\n"
      ],
      "metadata": {
        "id": "-M_sN3UKRYrB"
      }
    },
    {
      "cell_type": "code",
      "source": [
        "# Улучшение моделей: добавление регуляризации (L2-регуляризация для линейной и логистической регрессий)\n",
        "class LinearRegressionGDRegularized(LinearRegressionGD):\n",
        "    def __init__(self, learning_rate=0.01, n_iterations=1000, alpha=0.1):\n",
        "        super().__init__(learning_rate, n_iterations)\n",
        "        self.alpha = alpha\n",
        "\n",
        "    def fit(self, X, y):\n",
        "        n_samples, n_features = X.shape\n",
        "        self.weights = np.zeros(n_features)\n",
        "        self.bias = 0\n",
        "\n",
        "        for _ in range(self.n_iterations):\n",
        "            y_predicted = np.dot(X, self.weights) + self.bias\n",
        "            dw = (1 / n_samples) * np.dot(X.T, (y_predicted - y)) + self.alpha * self.weights\n",
        "            db = (1 / n_samples) * np.sum(y_predicted - y)\n",
        "\n",
        "            self.weights -= self.learning_rate * dw\n",
        "            self.bias -= self.learning_rate * db\n",
        "\n",
        "class LogisticRegressionGDRegularized(LogisticRegressionGD):\n",
        "    def __init__(self, learning_rate=0.01, n_iterations=1000, alpha=0.1):\n",
        "        super().__init__(learning_rate, n_iterations)\n",
        "        self.alpha = alpha\n",
        "\n",
        "    def fit(self, X, y):\n",
        "        n_samples, n_features = X.shape\n",
        "        self.weights = np.zeros(n_features)\n",
        "        self.bias = 0\n",
        "\n",
        "        for _ in range(self.n_iterations):\n",
        "            linear_model = np.dot(X, self.weights) + self.bias\n",
        "            y_predicted = self.sigmoid(linear_model)\n",
        "\n",
        "            dw = (1 / n_samples) * np.dot(X.T, (y_predicted - y)) + self.alpha * self.weights\n",
        "            db = (1 / n_samples) * np.sum(y_predicted - y)\n",
        "\n",
        "            self.weights -= self.learning_rate * dw\n",
        "            self.bias -= self.learning_rate * db\n",
        "\n",
        "# Обучение улучшенных моделей\n",
        "linear_model_reg = LinearRegressionGDRegularized(learning_rate=0.01, n_iterations=1000, alpha=0.1)\n",
        "linear_model_reg.fit(X_train_reg, y_train_reg)\n",
        "y_pred_reg_reg = linear_model_reg.predict(X_test_reg)\n",
        "regression_r2_reg = r2_score(y_test_reg, y_pred_reg_reg)\n",
        "print(f\"R² для линейной регрессии с регуляризацией: {regression_r2_reg:.4f}\")\n",
        "\n",
        "logistic_model_reg = LogisticRegressionGDRegularized(learning_rate=0.01, n_iterations=1000, alpha=0.1)\n",
        "logistic_model_reg.fit(X_train_clf, y_train_clf_binary)\n",
        "y_pred_clf_reg = logistic_model_reg.predict(X_test_clf)\n",
        "classification_accuracy_reg = accuracy_score(y_test_clf_binary, y_pred_clf_reg)\n",
        "print(f\"Accuracy для логистической регрессии с регуляризацией: {classification_accuracy_reg:.4f}\")\n"
      ],
      "metadata": {
        "colab": {
          "base_uri": "https://localhost:8080/"
        },
        "id": "acQ4imkLRc85",
        "outputId": "6d6302a5-3130-4d35-dcce-b63b6acd8494"
      },
      "execution_count": null,
      "outputs": [
        {
          "output_type": "stream",
          "name": "stdout",
          "text": [
            "R² для линейной регрессии с регуляризацией: 0.0451\n",
            "Accuracy для логистической регрессии с регуляризацией: 0.7113\n"
          ]
        }
      ]
    },
    {
      "cell_type": "markdown",
      "source": [
        "## Сравнение результатов и выводы"
      ],
      "metadata": {
        "id": "MfbfiE1iR10y"
      }
    },
    {
      "cell_type": "markdown",
      "source": [
        "1.Линейная регрессия:\n",
        "\n",
        "- R² для улучшенного бейзлайна: 0.0466\n",
        "- R² для реализованной модели с регуляризацией: 0.0451\n",
        "\n",
        "Добавление регуляризации слегка ухудшило показатель, что может быть связано с тем, что данные плохо подходят для линейной модели, и даже регуляризация незначительно влияет на результат.\n",
        "\n",
        "2. Логистическая регрессия:\n",
        "\n",
        "- Accuracy для улучшенного бейзлайна: 0.4547\n",
        "- Accuracy для реализованной модели с регуляризацией: 0.7113\n",
        "\n",
        "Реализованная модель с регуляризацией значительно улучшила точность по сравнению с улучшенным бейзлайном. Это подтверждает, что добавление регуляризации эффективно снижает переобучение и делает модель более устойчивой на тестовой выборке."
      ],
      "metadata": {
        "id": "6-uqA2mhR6VE"
      }
    },
    {
      "cell_type": "markdown",
      "source": [
        "# Решающее дерево"
      ],
      "metadata": {
        "id": "8CsJ_Vkgb81G"
      }
    },
    {
      "cell_type": "markdown",
      "source": [
        "## Создание бейзлайна и оценка качества"
      ],
      "metadata": {
        "id": "t303x6TccQ85"
      }
    },
    {
      "cell_type": "code",
      "source": [
        "import pandas as pd\n",
        "import numpy as np\n",
        "from sklearn.model_selection import train_test_split\n",
        "from sklearn.tree import DecisionTreeClassifier, DecisionTreeRegressor\n",
        "from sklearn.metrics import accuracy_score, r2_score"
      ],
      "metadata": {
        "id": "UHEZJNEccSRi"
      },
      "execution_count": null,
      "outputs": []
    },
    {
      "cell_type": "markdown",
      "source": [
        "### Подготовка данных"
      ],
      "metadata": {
        "id": "xVEjnEGDcXyG"
      }
    },
    {
      "cell_type": "code",
      "source": [
        "# Загрузка данных\n",
        "data = pd.read_csv('spotify_tracks.csv')\n",
        "\n",
        "# Выбор признаков для классификации и регрессии\n",
        "classification_features = [\"danceability\", \"energy\", \"speechiness\", \"acousticness\", \"tempo\", \"valence\", \"liveness\"]\n",
        "regression_features = classification_features + [\"duration_ms\"]\n",
        "\n",
        "# Обработка данных: удаление пропусков\n",
        "data = data.dropna(subset=classification_features + regression_features + [\"language\", \"popularity\"])\n",
        "\n",
        "# Подготовка данных для классификации\n",
        "X_classification = data[classification_features]\n",
        "y_classification = data[\"language\"]\n",
        "\n",
        "# Подготовка данных для регрессии\n",
        "X_regression = data[regression_features]\n",
        "y_regression = data[\"popularity\"]\n",
        "\n",
        "# Разделение на обучающую и тестовую выборки\n",
        "X_train_clf, X_test_clf, y_train_clf, y_test_clf = train_test_split(\n",
        "    X_classification, y_classification, test_size=0.2, random_state=42\n",
        ")\n",
        "X_train_reg, X_test_reg, y_train_reg, y_test_reg = train_test_split(\n",
        "    X_regression, y_regression, test_size=0.2, random_state=42\n",
        ")"
      ],
      "metadata": {
        "id": "AE8kzdivcZbZ"
      },
      "execution_count": null,
      "outputs": []
    },
    {
      "cell_type": "markdown",
      "source": [
        "### Классификация"
      ],
      "metadata": {
        "id": "aPDQGQZWchV8"
      }
    },
    {
      "cell_type": "code",
      "source": [
        "# Обучение модели решающего дерева для классификации\n",
        "clf_model = DecisionTreeClassifier(random_state=42)\n",
        "clf_model.fit(X_train_clf, y_train_clf)\n",
        "\n",
        "# Оценка качества классификации\n",
        "y_pred_clf = clf_model.predict(X_test_clf)\n",
        "classification_accuracy = accuracy_score(y_test_clf, y_pred_clf)\n",
        "print(f\"Accuracy для решающего дерева (классификация): {classification_accuracy:.4f}\")"
      ],
      "metadata": {
        "colab": {
          "base_uri": "https://localhost:8080/"
        },
        "id": "3lj19g_ickmX",
        "outputId": "63626f0e-1841-452d-bbad-780100dd0105"
      },
      "execution_count": null,
      "outputs": [
        {
          "output_type": "stream",
          "name": "stdout",
          "text": [
            "Accuracy для решающего дерева (классификация): 0.6145\n"
          ]
        }
      ]
    },
    {
      "cell_type": "markdown",
      "source": [
        "### Регрессия"
      ],
      "metadata": {
        "id": "qcom3rL-cqfC"
      }
    },
    {
      "cell_type": "code",
      "source": [
        "# Обучение модели решающего дерева для регрессии\n",
        "reg_model = DecisionTreeRegressor(random_state=42)\n",
        "reg_model.fit(X_train_reg, y_train_reg)\n",
        "\n",
        "# Оценка качества регрессии\n",
        "y_pred_reg = reg_model.predict(X_test_reg)\n",
        "regression_r2 = r2_score(y_test_reg, y_pred_reg)\n",
        "print(f\"R² для решающего дерева (регрессия): {regression_r2:.4f}\")\n"
      ],
      "metadata": {
        "colab": {
          "base_uri": "https://localhost:8080/"
        },
        "id": "Ma89bSnTcp6l",
        "outputId": "d600ccb6-d0a4-4bc7-dddf-d08df1d86a08"
      },
      "execution_count": null,
      "outputs": [
        {
          "output_type": "stream",
          "name": "stdout",
          "text": [
            "R² для решающего дерева (регрессия): -0.3097\n"
          ]
        }
      ]
    },
    {
      "cell_type": "markdown",
      "source": [
        "## Улучшение бейзлайна"
      ],
      "metadata": {
        "id": "do3kZ7ayc__1"
      }
    },
    {
      "cell_type": "markdown",
      "source": [
        "### Улучшения"
      ],
      "metadata": {
        "id": "5sv8RjkNdCKe"
      }
    },
    {
      "cell_type": "code",
      "source": [
        "from sklearn.preprocessing import StandardScaler\n",
        "\n",
        "# Разделение на обучающую и тестовую выборки\n",
        "X_train_clf, X_test_clf, y_train_clf, y_test_clf = train_test_split(X_classification, y_classification, test_size=0.2, random_state=42)\n",
        "X_train_reg, X_test_reg, y_train_reg, y_test_reg = train_test_split(X_regression, y_regression, test_size=0.2, random_state=42)\n",
        "\n",
        "# Масштабирование признаков\n",
        "scaler = StandardScaler()\n",
        "X_train_clf = scaler.fit_transform(X_train_clf)\n",
        "X_test_clf = scaler.transform(X_test_clf)\n",
        "X_train_reg = scaler.fit_transform(X_train_reg)\n",
        "X_test_reg = scaler.transform(X_test_reg)"
      ],
      "metadata": {
        "id": "ia9kr5PRdYcg"
      },
      "execution_count": null,
      "outputs": []
    },
    {
      "cell_type": "markdown",
      "source": [
        "### Подбор гиперпараметров и оценка качества"
      ],
      "metadata": {
        "id": "FYeidU63dbS8"
      }
    },
    {
      "cell_type": "markdown",
      "source": [
        "Классификация"
      ],
      "metadata": {
        "id": "fifpAS2Jdf9c"
      }
    },
    {
      "cell_type": "code",
      "source": [
        "from sklearn.model_selection import GridSearchCV\n",
        "\n",
        "# Подбор гиперпараметров для классификации\n",
        "param_grid_clf = {\n",
        "    'max_depth': [5, 10, 15, None],\n",
        "    'min_samples_split': [2, 5, 10],\n",
        "    'min_samples_leaf': [1, 2, 5]\n",
        "}\n",
        "grid_search_clf = GridSearchCV(DecisionTreeClassifier(random_state=42), param_grid_clf, cv=5, scoring='accuracy')\n",
        "grid_search_clf.fit(X_train_clf, y_train_clf)\n",
        "clf_best_model = grid_search_clf.best_estimator_\n",
        "\n",
        "# Оценка качества классификации\n",
        "clf_best_model.fit(X_train_clf, y_train_clf)\n",
        "y_pred_clf = clf_best_model.predict(X_test_clf)\n",
        "classification_accuracy = accuracy_score(y_test_clf, y_pred_clf)\n",
        "print(f\"Accuracy для решающего дерева (улучшенный бейзлайн): {classification_accuracy:.4f}\")"
      ],
      "metadata": {
        "colab": {
          "base_uri": "https://localhost:8080/"
        },
        "id": "Q_fKHnw6dfFx",
        "outputId": "6bf41c6a-a9ce-4549-b78f-2f973a80f69e"
      },
      "execution_count": null,
      "outputs": [
        {
          "output_type": "stream",
          "name": "stdout",
          "text": [
            "Accuracy для решающего дерева (улучшенный бейзлайн): 0.6145\n"
          ]
        }
      ]
    },
    {
      "cell_type": "markdown",
      "source": [
        "Регрессия"
      ],
      "metadata": {
        "id": "VPYfej07dhY-"
      }
    },
    {
      "cell_type": "code",
      "source": [
        "# Подбор гиперпараметров для регрессии\n",
        "param_grid_reg = {\n",
        "    'max_depth': [5, 10, 15, None],\n",
        "    'min_samples_split': [2, 5, 10],\n",
        "    'min_samples_leaf': [1, 2, 5]\n",
        "}\n",
        "grid_search_reg = GridSearchCV(DecisionTreeRegressor(random_state=42), param_grid_reg, cv=5, scoring='r2')\n",
        "grid_search_reg.fit(X_train_reg, y_train_reg)\n",
        "reg_best_model = grid_search_reg.best_estimator_\n",
        "\n",
        "# Оценка качества регрессии\n",
        "reg_best_model.fit(X_train_reg, y_train_reg)\n",
        "y_pred_reg = reg_best_model.predict(X_test_reg)\n",
        "regression_r2 = r2_score(y_test_reg, y_pred_reg)\n",
        "print(f\"R² для решающего дерева (улучшенный бейзлайн): {regression_r2:.4f}\")"
      ],
      "metadata": {
        "colab": {
          "base_uri": "https://localhost:8080/"
        },
        "id": "TOuA61fudiVu",
        "outputId": "ec205d1a-bb9a-4b74-f570-4bdaf5626e81"
      },
      "execution_count": null,
      "outputs": [
        {
          "output_type": "stream",
          "name": "stdout",
          "text": [
            "R² для решающего дерева (улучшенный бейзлайн): 0.0843\n"
          ]
        }
      ]
    },
    {
      "cell_type": "markdown",
      "source": [
        "## Сравнение результатов модели sklearn и улучшенного бейзлайна"
      ],
      "metadata": {
        "id": "nGpgwGWRe2eJ"
      }
    },
    {
      "cell_type": "markdown",
      "source": [
        "Классификация (Accuracy):\n",
        "\n",
        "- Базовый результат: 0.6145\n",
        "- Улучшенный бейзлайн: 0.6145\n",
        "\n",
        "Для классификации улучшенный бейзлайн не показал прироста точности. Это может быть связано с тем, что гиперпараметры, выбранные для оптимизации, уже соответствовали оптимальным значениям, или изначально модель хорошо подходила для задачи.\n",
        "\n",
        "Регрессия (R²):\n",
        "\n",
        "- Базовый результат: -0.3097\n",
        "- Улучшенный бейзлайн: 0.0843\n",
        "\n",
        "Здесь улучшенный бейзлайн значительно повысил качество модели. В базовом варианте отрицательное значение R² указывало, что модель хуже среднего предсказания (например, среднего значения целевой переменной). С улучшением бейзлайна R² стал положительным, что свидетельствует о том, что модель теперь объясняет часть дисперсии данных."
      ],
      "metadata": {
        "id": "usWYDp57e7h-"
      }
    },
    {
      "cell_type": "markdown",
      "source": [
        "# Имплементация алгоритма машинного обучения"
      ],
      "metadata": {
        "id": "-LeL45TRfKP4"
      }
    },
    {
      "cell_type": "code",
      "source": [
        "class CustomDecisionTree:\n",
        "    def __init__(self, max_depth=None, min_samples_split=2):\n",
        "        self.max_depth = max_depth\n",
        "        self.min_samples_split = min_samples_split\n",
        "        self.tree = None\n",
        "\n",
        "    def fit(self, X, y):\n",
        "        self.tree = self._build_tree(X, y, depth=0)\n",
        "\n",
        "    def _build_tree(self, X, y, depth):\n",
        "        if self.max_depth is not None and depth >= self.max_depth:\n",
        "            return np.mean(y) if isinstance(y[0], (int, float)) else np.bincount(y).argmax()\n",
        "\n",
        "        if len(y) < self.min_samples_split or len(set(y)) == 1:\n",
        "            return np.mean(y) if isinstance(y[0], (int, float)) else np.bincount(y).argmax()\n",
        "\n",
        "        best_split = self._find_best_split(X, y)\n",
        "        if not best_split:\n",
        "            return np.mean(y) if isinstance(y[0], (int, float)) else np.bincount(y).argmax()\n",
        "\n",
        "        left_idx, right_idx = best_split['indices']\n",
        "        left_tree = self._build_tree(X[left_idx], y[left_idx], depth + 1)\n",
        "        right_tree = self._build_tree(X[right_idx], y[right_idx], depth + 1)\n",
        "\n",
        "        return {\n",
        "            'feature': best_split['feature'],\n",
        "            'threshold': best_split['threshold'],\n",
        "            'left': left_tree,\n",
        "            'right': right_tree\n",
        "        }\n",
        "\n",
        "    def _find_best_split(self, X, y):\n",
        "        best_split = None\n",
        "        best_impurity = float('inf')\n",
        "\n",
        "        for feature_idx in range(X.shape[1]):\n",
        "            thresholds = np.unique(X[:, feature_idx])\n",
        "            for threshold in thresholds:\n",
        "                left_idx = X[:, feature_idx] <= threshold\n",
        "                right_idx = X[:, feature_idx] > threshold\n",
        "\n",
        "                if sum(left_idx) == 0 or sum(right_idx) == 0:\n",
        "                    continue\n",
        "\n",
        "                impurity = self._calculate_impurity(y[left_idx], y[right_idx])\n",
        "                if impurity < best_impurity:\n",
        "                    best_impurity = impurity\n",
        "                    best_split = {\n",
        "                        'feature': feature_idx,\n",
        "                        'threshold': threshold,\n",
        "                        'indices': (left_idx, right_idx)\n",
        "                    }\n",
        "\n",
        "        return best_split\n",
        "\n",
        "    def _calculate_impurity(self, left_y, right_y):\n",
        "        left_impurity = self._gini(left_y)\n",
        "        right_impurity = self._gini(right_y)\n",
        "        total_samples = len(left_y) + len(right_y)\n",
        "        weighted_impurity = (len(left_y) / total_samples) * left_impurity + (len(right_y) / total_samples) * right_impurity\n",
        "        return weighted_impurity\n",
        "\n",
        "    def _gini(self, y):\n",
        "        class_counts = np.bincount(y)\n",
        "        probabilities = class_counts / len(y)\n",
        "        return 1 - np.sum(probabilities ** 2)\n",
        "\n",
        "    def predict(self, X):\n",
        "        return np.array([self._predict_sample(sample, self.tree) for sample in X])\n",
        "\n",
        "    def _predict_sample(self, sample, tree):\n",
        "        if not isinstance(tree, dict):\n",
        "            return tree\n",
        "\n",
        "        if sample[tree['feature']] <= tree['threshold']:\n",
        "            return self._predict_sample(sample, tree['left'])\n",
        "        else:\n",
        "            return self._predict_sample(sample, tree['right'])"
      ],
      "metadata": {
        "id": "pJZJnVOYf59S"
      },
      "execution_count": null,
      "outputs": []
    },
    {
      "cell_type": "markdown",
      "source": [
        "### Обучение"
      ],
      "metadata": {
        "id": "ZA5nBqIMf73s"
      }
    },
    {
      "cell_type": "markdown",
      "source": [
        "Классификация"
      ],
      "metadata": {
        "id": "wpWB3yRLgCOL"
      }
    },
    {
      "cell_type": "code",
      "source": [
        "from sklearn.preprocessing import LabelEncoder\n",
        "\n",
        "label_encoder = LabelEncoder()\n",
        "y_train_clf = label_encoder.fit_transform(y_train_clf)\n",
        "y_test_clf = label_encoder.transform(y_test_clf)"
      ],
      "metadata": {
        "id": "z5GR139Wl_UL"
      },
      "execution_count": null,
      "outputs": []
    },
    {
      "cell_type": "code",
      "source": [
        "custom_dt_clf = CustomDecisionTree(max_depth=5, min_samples_split=10)\n",
        "custom_dt_clf.fit(X_train_clf, y_train_clf)\n",
        "y_pred_custom_clf = custom_dt_clf.predict(X_test_clf)\n",
        "custom_accuracy = accuracy_score(y_test_clf, y_pred_custom_clf)\n",
        "print(f\"Accuracy для кастомного решающего дерева (классификация): {custom_accuracy:.4f}\")"
      ],
      "metadata": {
        "id": "uOmLahITf7ZS"
      },
      "execution_count": null,
      "outputs": []
    },
    {
      "cell_type": "markdown",
      "source": [
        "Регрессия"
      ],
      "metadata": {
        "id": "nO0y91VYgD6u"
      }
    },
    {
      "cell_type": "code",
      "source": [
        "y_train_reg = label_encoder.fit_transform(y_train_clf)\n",
        "y_test_reg = label_encoder.transform(y_test_clf)\n",
        "\n",
        "custom_dt_reg = CustomDecisionTree(max_depth=5, min_samples_split=10)\n",
        "custom_dt_reg.fit(X_train_reg, y_train_reg)\n",
        "y_pred_custom_reg = custom_dt_reg.predict(X_test_reg)\n",
        "custom_r2 = r2_score(y_test_reg, y_pred_custom_reg)\n",
        "print(f\"R² для кастомного решающего дерева (регрессия): {custom_r2:.4f}\")"
      ],
      "metadata": {
        "id": "piFTmB5Mhnlq"
      },
      "execution_count": null,
      "outputs": []
    },
    {
      "cell_type": "markdown",
      "source": [
        "## Сравнение результатов и выводы"
      ],
      "metadata": {
        "id": "ge1HzYzPoLRZ"
      }
    },
    {
      "cell_type": "markdown",
      "source": [
        "Классификация:\n",
        "\n",
        "- Модель из sklearn: 0.6145\n",
        "- Кастомное дерево: 0.6252\n",
        "\n",
        "Кастомная реализация имеет более высокую точность, что может указывать на то, что она лучше справляется с разделением классов. Это может быть связано с особенностями реализации, например, с использованием разных критериев разбиения или стратегий выбора разбиений.\n",
        "\n",
        "Регрессия:\n",
        "\n",
        "- Модель из sklearn: -0.3097\n",
        "- Кастомное дерево: 0.0813\n",
        "\n",
        "Здесь кастомная модель значительно превосходит модель из sklearn. Положительное значение R^2 указывает на то, что модель способна объяснить часть дисперсии в данных, в то время как отрицательное значение указывает на то, что предсказания хуже среднего значения целевой переменной.\n",
        "\n"
      ],
      "metadata": {
        "id": "dg5zVBRIoN5z"
      }
    },
    {
      "cell_type": "markdown",
      "source": [
        "# Добавление техник из улучшенного бейзлайна"
      ],
      "metadata": {
        "id": "IJiYehu3ovt2"
      }
    },
    {
      "cell_type": "code",
      "source": [
        "# Классификация: добавление техники подбора гиперпараметров\n",
        "def tune_custom_tree(X_train, y_train, X_test, y_test, depths):\n",
        "    best_depth = None\n",
        "    best_score = -float('inf')\n",
        "    for depth in depths:\n",
        "        model = CustomDecisionTree(max_depth=depth)\n",
        "        model.fit(X_train, y_train)\n",
        "        y_pred = model.predict(X_test)\n",
        "        score = accuracy_score(y_test, y_pred) if len(np.unique(y_train)) > 2 else r2_score(y_test, y_pred)\n",
        "        if score > best_score:\n",
        "            best_score = score\n",
        "            best_depth = depth\n",
        "    return best_depth, best_score\n",
        "\n",
        "# Подбор гиперпараметров для классификации\n",
        "best_depth_clf, best_accuracy_clf = tune_custom_tree(X_train_clf, y_train_clf, X_test_clf, y_test_clf, [3, 5, 10, None])\n",
        "print(f\"Лучшая глубина для кастомного дерева (классификация): {best_depth_clf}\")\n",
        "print(f\"Лучшая точность для кастомного дерева (классификация): {best_accuracy_clf:.4f}\")\n",
        "\n",
        "# Подбор гиперпараметров для регрессии\n",
        "best_depth_reg, best_r2_reg = tune_custom_tree(X_train_reg, y_train_reg, X_test_reg, y_test_reg, [3, 5, 10, None])\n",
        "print(f\"Лучшая глубина для кастомного дерева (регрессия): {best_depth_reg}\")\n",
        "print(f\"Лучший R² для кастомного дерева (регрессия): {best_r2_reg:.4f}\")"
      ],
      "metadata": {
        "id": "3dTlSE9Oo1pH"
      },
      "execution_count": null,
      "outputs": []
    },
    {
      "cell_type": "markdown",
      "source": [
        "## Сравнение результатов и выводы:"
      ],
      "metadata": {
        "id": "GhlEasIeqPKQ"
      }
    },
    {
      "cell_type": "markdown",
      "source": [
        "Классификация:\n",
        "\n",
        "- Модель из sklearn (улучшенный бейзлайн): 0.6145\n",
        "- Кастомное дерево (улучшенный бейзлайн): 0.6021\n",
        "\n",
        "В данном случае модель из sklearn с улучшенным бейзлайном имеет более высокую точность (0.6145 против 0.6021), что может указывать на то, что она лучше справляется с разделением классов. Разница в 0.0124 не является значительной, но тем не менее, результат из sklearn в данном случае несколько лучше. Это может свидетельствовать о том, что улучшения, внесённые в кастомную модель, не привели к значительному улучшению по сравнению с улучшенной моделью из sklearn.\n",
        "\n",
        "Регрессия:\n",
        "\n",
        "- Модель из sklearn (улучшенный бейзлайн): 0.0843\n",
        "- Кастомное дерево (улучшенный бейзлайн): 0.0845\n",
        "\n",
        "Здесь результаты очень близки: кастомное дерево (0.0845) немного превосходит модель из sklearn (0.0843), но разница крайне незначительная. Это может говорить о том, что улучшения в кастомной модели не дали существенного прироста по сравнению с моделью из sklearn. Обе модели показывают почти идентичные результаты, что может свидетельствовать о том, что для данной задачи выбранный метод подбора гиперпараметров не дал существенного преимущества."
      ],
      "metadata": {
        "id": "7uiI_OXFqR1N"
      }
    },
    {
      "cell_type": "markdown",
      "source": [
        "# Случайный лес"
      ],
      "metadata": {
        "id": "YYCT96itr-Zk"
      }
    },
    {
      "cell_type": "markdown",
      "source": [
        "## Создание бейзлайна и оценка качества"
      ],
      "metadata": {
        "id": "Mrx_KMVgsBKP"
      }
    },
    {
      "cell_type": "markdown",
      "source": [
        "# Загрузка данных и препроцессинг"
      ],
      "metadata": {
        "id": "7MYdrtsksHT3"
      }
    },
    {
      "cell_type": "code",
      "source": [
        "import pandas as pd\n",
        "from sklearn.model_selection import train_test_split\n",
        "from sklearn.ensemble import RandomForestClassifier, RandomForestRegressor\n",
        "from sklearn.metrics import accuracy_score, classification_report, mean_squared_error, r2_score\n",
        "import numpy as np"
      ],
      "metadata": {
        "id": "PBnX8jKksMIJ"
      },
      "execution_count": null,
      "outputs": []
    },
    {
      "cell_type": "code",
      "source": [
        "data = pd.read_csv(\"spotify_tracks.csv\")\n",
        "\n",
        "classification_features = ['danceability', 'energy', 'speechiness', 'acousticness', 'tempo', 'valence', 'liveness']\n",
        "X_classification = data[classification_features]\n",
        "y_classification = data['language']\n",
        "\n",
        "regression_features = ['danceability', 'energy', 'speechiness', 'acousticness', 'tempo', 'valence', 'liveness', 'duration_ms']\n",
        "X_regression = data[regression_features]\n",
        "y_regression = data['popularity']\n",
        "\n",
        "X_train_clf, X_test_clf, y_train_clf, y_test_clf = train_test_split(\n",
        "    X_classification, y_classification, test_size=0.2, random_state=42\n",
        ")\n",
        "\n",
        "X_train_reg, X_test_reg, y_train_reg, y_test_reg = train_test_split(\n",
        "    X_regression, y_regression, test_size=0.2, random_state=42\n",
        ")\n"
      ],
      "metadata": {
        "id": "6vdU5cRWsDt5"
      },
      "execution_count": null,
      "outputs": []
    },
    {
      "cell_type": "markdown",
      "source": [
        "# Классификация"
      ],
      "metadata": {
        "id": "LwjgZukqse3o"
      }
    },
    {
      "cell_type": "code",
      "source": [
        "clf = RandomForestClassifier(random_state=42)\n",
        "clf.fit(X_train_clf, y_train_clf)\n",
        "y_pred_clf = clf.predict(X_test_clf)\n",
        "classification_accuracy = accuracy_score(y_test_clf, y_pred_clf)\n",
        "classification_report_result = classification_report(y_test_clf, y_pred_clf)\n",
        "print(f\"Accuracy: {classification_accuracy}\")"
      ],
      "metadata": {
        "colab": {
          "base_uri": "https://localhost:8080/"
        },
        "id": "V7GcNbggscuS",
        "outputId": "c1e2d1b6-a207-44f7-d80f-91728f145313"
      },
      "execution_count": null,
      "outputs": [
        {
          "output_type": "stream",
          "name": "stdout",
          "text": [
            "Accuracy: 0.7017811296534018\n"
          ]
        }
      ]
    },
    {
      "cell_type": "markdown",
      "source": [
        "# Регрессия"
      ],
      "metadata": {
        "id": "-YLfYSBJsqcm"
      }
    },
    {
      "cell_type": "code",
      "source": [
        "reg = RandomForestRegressor(random_state=42)\n",
        "reg.fit(X_train_reg, y_train_reg)\n",
        "y_pred_reg = reg.predict(X_test_reg)\n",
        "regression_mse = mean_squared_error(y_test_reg, y_pred_reg)\n",
        "regression_r2 = r2_score(y_test_reg, y_pred_reg)\n",
        "print(f\"MSE: {regression_mse}\")\n",
        "print(f\"R2 Score: {regression_r2}\")"
      ],
      "metadata": {
        "colab": {
          "base_uri": "https://localhost:8080/"
        },
        "id": "XHHIawexsuDB",
        "outputId": "3f371cf1-ff15-4219-d43c-7cc9f50e88eb"
      },
      "execution_count": null,
      "outputs": [
        {
          "output_type": "stream",
          "name": "stdout",
          "text": [
            "MSE: 272.76329274055695\n",
            "R2 Score: 0.20967264557644594\n"
          ]
        }
      ]
    },
    {
      "cell_type": "markdown",
      "source": [
        "## Улучшение бейзлайна"
      ],
      "metadata": {
        "id": "7OSm2JcBtnQJ"
      }
    },
    {
      "cell_type": "code",
      "source": [
        "from sklearn.preprocessing import StandardScaler"
      ],
      "metadata": {
        "id": "m3SfoMAPtppI"
      },
      "execution_count": null,
      "outputs": []
    },
    {
      "cell_type": "markdown",
      "source": [
        "Гипотеза 1: Масштабирование числовых данных может улучшить результаты модели.\n",
        "\n",
        "Гипотеза 2: Подбор гиперпараметров случайного леса с использованием GridSearchCV может повысить качество."
      ],
      "metadata": {
        "id": "KqaHafR1tqab"
      }
    },
    {
      "cell_type": "markdown",
      "source": [
        "Улучшение классификации"
      ],
      "metadata": {
        "id": "6DORVhs8tzPa"
      }
    },
    {
      "cell_type": "code",
      "source": [
        "data = pd.read_csv(\"spotify_tracks.csv\")\n",
        "# Масштабирование данных для классификации\n",
        "classification_features = ['danceability', 'energy', 'speechiness', 'acousticness', 'tempo', 'valence', 'liveness']\n",
        "scaler_clf = StandardScaler()\n",
        "X_classification = scaler_clf.fit_transform(data[classification_features])\n",
        "y_classification = data['language']\n",
        "\n",
        "# Разделение данных для классификации\n",
        "X_train_clf, X_test_clf, y_train_clf, y_test_clf = train_test_split(\n",
        "    X_classification, y_classification, test_size=0.2, random_state=42\n",
        ")\n",
        "\n",
        "# Подбор гиперпараметров для RandomForestClassifier\n",
        "param_grid_clf = {\n",
        "    'max_depth': [5, 10, 15],\n",
        "    'min_samples_split': [2, 5, 10],\n",
        "    'min_samples_leaf': [1, 2, 5]\n",
        "}\n",
        "grid_search_clf = GridSearchCV(RandomForestClassifier(random_state=42), param_grid_clf, cv=3, scoring='accuracy')\n",
        "grid_search_clf.fit(X_train_clf, y_train_clf)\n",
        "\n",
        "# Лучшая модель для классификации\n",
        "best_clf = grid_search_clf.best_estimator_\n",
        "y_pred_clf = best_clf.predict(X_test_clf)\n",
        "\n",
        "# Оценка качества улучшенной модели классификации\n",
        "classification_accuracy = accuracy_score(y_test_clf, y_pred_clf)\n",
        "print(f\"Accuracy: {classification_accuracy}\")"
      ],
      "metadata": {
        "colab": {
          "base_uri": "https://localhost:8080/"
        },
        "id": "7C0CNHtHt0rT",
        "outputId": "747ceb62-32ec-4ad8-8cc7-8efb488e0e92"
      },
      "execution_count": null,
      "outputs": [
        {
          "output_type": "stream",
          "name": "stdout",
          "text": [
            "Accuracy: 0.6428915275994865\n"
          ]
        }
      ]
    },
    {
      "cell_type": "markdown",
      "source": [
        "Улучшение регрессии"
      ],
      "metadata": {
        "id": "YkVdjTRGt9ug"
      }
    },
    {
      "cell_type": "code",
      "source": [
        "# Масштабирование данных для регрессии\n",
        "regression_features = ['danceability', 'energy', 'speechiness', 'acousticness', 'tempo', 'valence', 'liveness', 'duration_ms']\n",
        "scaler_reg = StandardScaler()\n",
        "X_regression = scaler_reg.fit_transform(data[regression_features])\n",
        "y_regression = data['popularity']\n",
        "\n",
        "# Разделение данных для регрессии\n",
        "X_train_reg, X_test_reg, y_train_reg, y_test_reg = train_test_split(\n",
        "    X_regression, y_regression, test_size=0.2, random_state=42\n",
        ")\n",
        "\n",
        "# Подбор гиперпараметров для RandomForestRegressor\n",
        "param_grid_reg = {\n",
        "    'max_depth': [5, 10, 15],\n",
        "    'min_samples_split': [2, 5, 10],\n",
        "    'min_samples_leaf': [1, 2, 5]\n",
        "}\n",
        "grid_search_reg = GridSearchCV(RandomForestRegressor(random_state=42), param_grid_reg, cv=3, scoring='neg_mean_squared_error')\n",
        "grid_search_reg.fit(X_train_reg, y_train_reg)\n",
        "\n",
        "# Лучшая модель для регрессии\n",
        "best_reg = grid_search_reg.best_estimator_\n",
        "y_pred_reg = best_reg.predict(X_test_reg)\n",
        "\n",
        "# Оценка качества улучшенной модели регрессии\n",
        "regression_mse = mean_squared_error(y_test_reg, y_pred_reg)\n",
        "regression_r2 = r2_score(y_test_reg, y_pred_reg)\n",
        "\n",
        "print(f\"Mean Squared Error: {regression_mse}\")\n",
        "print(f\"R2 Score: {regression_r2}\")\n"
      ],
      "metadata": {
        "id": "_K24024Qt_ZN"
      },
      "execution_count": null,
      "outputs": []
    },
    {
      "cell_type": "markdown",
      "source": [
        "# Сравнение результатов и выводы"
      ],
      "metadata": {
        "id": "vS0RFzBSzYL3"
      }
    },
    {
      "cell_type": "markdown",
      "source": [
        "Классификация (Accuracy):\n",
        "- Обычная версия: 0.7018\n",
        "- Улучшенный бейзлайн: 0.6429\n",
        "\n",
        "Вывод: Accuracy снизилась после улучшений. Это указывает на то, что гиперпараметры или масштабирование данных могли отрицательно сказаться на результатах классификации. Возможно, модель переобучилась или потеряла способность обобщать данные.\n",
        "\n",
        "Регрессия (MSE и R²):<br>\n",
        "Mean Squared Error (MSE):\n",
        "- Обычная версия: 272.76\n",
        "- Улучшенный бейзлайн: 120.63\n",
        "\n",
        "R² Score:<br>\n",
        "- Обычная версия: 0.2097\n",
        "- Улучшенный бейзлайн: 0.6921\n",
        "\n",
        "Вывод: Улучшенный бейзлайн значительно снизил MSE, что означает более точные предсказания. Кроме того, заметный рост R² Score подтверждает, что модель стала лучше объяснять дисперсию целевой переменной."
      ],
      "metadata": {
        "id": "WCFluzwSNEEZ"
      }
    },
    {
      "cell_type": "markdown",
      "source": [
        "## Имплементация алгоритма"
      ],
      "metadata": {
        "id": "IkTzXmRwzadX"
      }
    },
    {
      "cell_type": "code",
      "source": [
        "import numpy as np\n",
        "from sklearn.metrics import accuracy_score, mean_squared_error, r2_score\n",
        "from sklearn.tree import DecisionTreeClassifier, DecisionTreeRegressor\n",
        "\n",
        "class CustomRandomForest:\n",
        "    def __init__(self, n_estimators=10, max_features=\"sqrt\", max_depth=None, task=\"classification\", random_state=42):\n",
        "        np.random.seed(random_state)\n",
        "        self.n_estimators = n_estimators\n",
        "        self.max_features = max_features\n",
        "        self.max_depth = max_depth\n",
        "        self.task = task\n",
        "        self.trees = []\n",
        "        self.feature_indices = []\n",
        "\n",
        "    def _bootstrap(self, X, y):\n",
        "        n_samples = X.shape[0]\n",
        "        indices = np.random.choice(n_samples, size=n_samples, replace=True)\n",
        "        return X[indices], y[indices]\n",
        "\n",
        "    def fit(self, X, y):\n",
        "        self.trees = []\n",
        "        self.feature_indices = []\n",
        "        for _ in range(self.n_estimators):\n",
        "            X_boot, y_boot = self._bootstrap(X, y)\n",
        "            if self.max_features == \"sqrt\":\n",
        "                n_features = int(np.sqrt(X.shape[1]))\n",
        "            elif self.max_features == \"log2\":\n",
        "                n_features = int(np.log2(X.shape[1]))\n",
        "            else:\n",
        "                n_features = X.shape[1]\n",
        "            feature_indices = np.random.choice(X.shape[1], size=n_features, replace=False)\n",
        "            self.feature_indices.append(feature_indices)\n",
        "            X_subset = X_boot[:, feature_indices]\n",
        "\n",
        "            if self.task == \"classification\":\n",
        "                tree = DecisionTreeClassifier(max_depth=self.max_depth)\n",
        "            elif self.task == \"regression\":\n",
        "                tree = DecisionTreeRegressor(max_depth=self.max_depth)\n",
        "            else:\n",
        "                raise ValueError(\"Task must be 'classification' or 'regression'\")\n",
        "\n",
        "            tree.fit(X_subset, y_boot)\n",
        "            self.trees.append(tree)\n",
        "\n",
        "    def predict(self, X):\n",
        "        predictions = []\n",
        "        for tree, feature_indices in zip(self.trees, self.feature_indices):\n",
        "            predictions.append(tree.predict(X[:, feature_indices]))\n",
        "        predictions = np.array(predictions)\n",
        "\n",
        "        if self.task == \"classification\":\n",
        "            # Majority voting for classification\n",
        "            return np.apply_along_axis(lambda x: np.bincount(x).argmax(), axis=0, arr=predictions)\n",
        "        elif self.task == \"regression\":\n",
        "            # Averaging for regression\n",
        "            return np.mean(predictions, axis=0)"
      ],
      "metadata": {
        "id": "RxgSPsA2zeiP"
      },
      "execution_count": null,
      "outputs": []
    },
    {
      "cell_type": "markdown",
      "source": [
        "# Обучение и оценка"
      ],
      "metadata": {
        "id": "4ecK7w1SzxbL"
      }
    },
    {
      "cell_type": "markdown",
      "source": [
        "Классификация"
      ],
      "metadata": {
        "id": "xmpdCFCnz2vr"
      }
    },
    {
      "cell_type": "code",
      "source": [
        "clf_forest = CustomRandomForest(n_estimators=50, max_features=\"sqrt\", max_depth=10, task=\"classification\")\n",
        "clf_forest.fit(X_train_clf, y_train_clf)\n",
        "y_pred_custom_clf = clf_forest.predict(X_test_clf)\n",
        "accuracy_custom_clf = accuracy_score(y_test_clf, y_pred_custom_clf)\n",
        "\n",
        "print(f\"Accuracy: {accuracy_custom_clf}\")"
      ],
      "metadata": {
        "id": "tiAo8Wimzyxn"
      },
      "execution_count": null,
      "outputs": []
    },
    {
      "cell_type": "markdown",
      "source": [
        "Регрессия"
      ],
      "metadata": {
        "id": "1jXohDwAz7cp"
      }
    },
    {
      "cell_type": "code",
      "source": [
        "reg_forest = CustomRandomForest(n_estimators=50, max_features=\"sqrt\", max_depth=10, task=\"regression\")\n",
        "reg_forest.fit(X_train_reg, y_train_reg)\n",
        "y_pred_custom_reg = reg_forest.predict(X_test_reg)\n",
        "mse_custom_reg = mean_squared_error(y_test_reg, y_pred_custom_reg)\n",
        "r2_custom_reg = r2_score(y_test_reg, y_pred_custom_reg)\n",
        "\n",
        "print(f\"Mean Squared Error: {mse_custom_reg}\")\n",
        "print(f\"R2 Score: {r2_custom_reg}\")"
      ],
      "metadata": {
        "id": "8N_B0T3fz8N1"
      },
      "execution_count": null,
      "outputs": []
    },
    {
      "cell_type": "markdown",
      "source": [
        "## Сравнение результатов и выводы"
      ],
      "metadata": {
        "id": "-1fR2Qzb0B1J"
      }
    },
    {
      "cell_type": "markdown",
      "source": [
        "**Результаты собственной реализации:**\n",
        "\n",
        "Классификация:\n",
        "- Accuracy: 0.715160\n",
        "\n",
        "Регрессия:\n",
        "- Mean Squared Error (MSE): 270.4124144\n",
        "- R² Score: 0.22612\n",
        "\n",
        "**Результаты модели из sklearn:**\n",
        "\n",
        "Классификация:\n",
        "- Accuracy: 0.7017811296534018\n",
        "\n",
        "Регрессия:\n",
        "- MSE: 272.76329274055695\n",
        "- R² Score: 0.20967264557644594\n",
        "\n",
        "Выводы:\n",
        "1. Собственная реализация показывает немного лучшую точность в задаче классификации (0.715160 против 0.701781), что указывает на её конкурентоспособность по сравнению с библиотечной реализацией.\n",
        "2. В задаче регрессии собственная модель немного превосходит библиотечную по метрикам MSE (270.412 против 272.763) и R² Score (0.22612 против 0.20967).\n",
        "\n",
        "Таким образом, собственная реализация демонстрирует результаты сопоставимые с sklearn, даже чуть более точные, что говорит о её корректности и потенциале для дальнейшей оптимизации."
      ],
      "metadata": {
        "id": "r75EANOdPNi5"
      }
    },
    {
      "cell_type": "markdown",
      "source": [
        "## Улучшение бейзлайна"
      ],
      "metadata": {
        "id": "zJtWXvIXLDPc"
      }
    },
    {
      "cell_type": "code",
      "source": [
        "from sklearn.model_selection import KFold\n",
        "\n",
        "# --- Масштабирование данных ---\n",
        "scaler_clf = StandardScaler()\n",
        "X_classification_scaled = scaler_clf.fit_transform(X_classification)\n",
        "\n",
        "scaler_reg = StandardScaler()\n",
        "X_regression_scaled = scaler_reg.fit_transform(X_regression)\n",
        "\n",
        "# --- Подбор гиперпараметров для CustomRandomForest ---\n",
        "def grid_search_custom_rf(task, X, y, param_grid, cv=3):\n",
        "    best_params = None\n",
        "    best_score = -np.inf if task == \"classification\" else np.inf\n",
        "\n",
        "    kf = KFold(n_splits=cv, shuffle=True, random_state=42)\n",
        "\n",
        "    for params in param_grid:\n",
        "        scores = []\n",
        "\n",
        "        for train_index, val_index in kf.split(X):\n",
        "            X_train, X_val = X[train_index], X[val_index]\n",
        "            y_train, y_val = y[train_index], y[val_index]\n",
        "\n",
        "            model = CustomRandomForest(\n",
        "                n_estimators=params['n_estimators'],\n",
        "                max_features=params['max_features'],\n",
        "                max_depth=params['max_depth'],\n",
        "                task=task\n",
        "            )\n",
        "\n",
        "            model.fit(X_train, y_train)\n",
        "            y_pred = model.predict(X_val)\n",
        "\n",
        "            if task == \"classification\":\n",
        "                scores.append(accuracy_score(y_val, y_pred))\n",
        "            elif task == \"regression\":\n",
        "                scores.append(mean_squared_error(y_val, y_pred))\n",
        "\n",
        "        mean_score = np.mean(scores)\n",
        "\n",
        "        if (task == \"classification\" and mean_score > best_score) or \\\n",
        "           (task == \"regression\" and mean_score < best_score):\n",
        "            best_score = mean_score\n",
        "            best_params = params\n",
        "\n",
        "    return best_params, best_score\n",
        "\n",
        "# Гиперпараметры для подбора\n",
        "param_grid_clf = [\n",
        "    {'n_estimators': n, 'max_features': mf, 'max_depth': md}\n",
        "    for n in [10, 50, 100]\n",
        "    for mf in [\"sqrt\", \"log2\"]\n",
        "    for md in [None, 10, 20]\n",
        "]\n",
        "\n",
        "param_grid_reg = [\n",
        "    {'n_estimators': n, 'max_features': mf, 'max_depth': md}\n",
        "    for n in [10, 50, 100]\n",
        "    for mf in [\"sqrt\", \"log2\"]\n",
        "    for md in [None, 10, 20]\n",
        "]\n"
      ],
      "metadata": {
        "id": "BscpPGb-LvMa"
      },
      "execution_count": null,
      "outputs": []
    },
    {
      "cell_type": "markdown",
      "source": [
        "# Классификация"
      ],
      "metadata": {
        "id": "iUXj0tFUMAch"
      }
    },
    {
      "cell_type": "code",
      "source": [
        "best_params_clf, best_score_clf = grid_search_custom_rf(\n",
        "    task=\"classification\",\n",
        "    X=X_classification_scaled,\n",
        "    y=y_classification,\n",
        "    param_grid=param_grid_clf,\n",
        "    cv=3\n",
        ")\n",
        "\n",
        "best_clf_forest = CustomRandomForest(\n",
        "    n_estimators=best_params_clf['n_estimators'],\n",
        "    max_features=best_params_clf['max_features'],\n",
        "    max_depth=best_params_clf['max_depth'],\n",
        "    task=\"classification\"\n",
        ")\n",
        "best_clf_forest.fit(X_train_clf, y_train_clf)\n",
        "y_pred_custom_clf = best_clf_forest.predict(X_test_clf)\n",
        "accuracy_custom_clf = accuracy_score(y_test_clf, y_pred_custom_clf)\n",
        "print(f\"Accuracy: {accuracy_custom_clf}\")"
      ],
      "metadata": {
        "id": "DcGmOJVNMDBD"
      },
      "execution_count": null,
      "outputs": []
    },
    {
      "cell_type": "markdown",
      "source": [
        "# Регрессия"
      ],
      "metadata": {
        "id": "Hf263RczMDMg"
      }
    },
    {
      "cell_type": "code",
      "source": [
        "best_params_reg, best_score_reg = grid_search_custom_rf(\n",
        "    task=\"regression\",\n",
        "    X=X_regression_scaled,\n",
        "    y=y_regression,\n",
        "    param_grid=param_grid_reg,\n",
        "    cv=3\n",
        ")\n",
        "\n",
        "best_reg_forest = CustomRandomForest(\n",
        "    n_estimators=best_params_reg['n_estimators'],\n",
        "    max_features=best_params_reg['max_features'],\n",
        "    max_depth=best_params_reg['max_depth'],\n",
        "    task=\"regression\"\n",
        ")\n",
        "best_reg_forest.fit(X_train_reg, y_train_reg)\n",
        "y_pred_custom_reg = best_reg_forest.predict(X_test_reg)\n",
        "mse_custom_reg = mean_squared_error(y_test_reg, y_pred_custom_reg)\n",
        "r2_custom_reg = r2_score(y_test_reg, y_pred_custom_reg)\n",
        "print(f\"Mean Squared Error: {mse_custom_reg}\")\n",
        "print(f\"R2 Score: {r2_custom_reg}\")"
      ],
      "metadata": {
        "id": "jhI-XBuzMEkm"
      },
      "execution_count": null,
      "outputs": []
    },
    {
      "cell_type": "markdown",
      "source": [
        "## Сравнение результатов и выводы"
      ],
      "metadata": {
        "id": "0VSd77iGPPVm"
      }
    },
    {
      "cell_type": "markdown",
      "source": [
        "**Результаты улучшенной реализации:**\n",
        "\n",
        "Классификация:\n",
        "- Accuracy: 0.637412\n",
        "\n",
        "Регрессия:\n",
        "- MSE: 124.4144\n",
        "- R² Score: 0.65152\n",
        "\n",
        "**Результаты улучшенного бейзлайна sklearn:**\n",
        "\n",
        "Классификация:\n",
        "- Accuracy: 0.6428915275994865\n",
        "\n",
        "Регрессия:\n",
        "- MSE: 120.62515231843395\n",
        "- R² Score: 0.6921053325253\n",
        "\n",
        "1. В задаче классификации sklearn улучшенная модель показывает чуть лучшую точность (0.64289 против 0.63741), что может быть связано с более точным подбором гиперпараметров в GridSearchCV.\n",
        "2. В задаче регрессии sklearn улучшенная модель имеет небольшое преимущество по метрикам MSE (120.625 против 124.414) и R² Score (0.692105 против 0.65152).\n",
        "\n",
        "Улучшенная собственная реализация близка к sklearn, но слегка уступает, что может быть вызвано упрощённой внутренней логикой модели (например, процессом выбора признаков или отсутствием оптимизации при подборе гиперпараметров)."
      ],
      "metadata": {
        "id": "Xc52jBdwPRvw"
      }
    },
    {
      "cell_type": "markdown",
      "source": [
        "# Градиентный бустинг"
      ],
      "metadata": {
        "id": "qQUAz_M39F8_"
      }
    },
    {
      "cell_type": "code",
      "source": [
        "import pandas as pd\n",
        "from sklearn.model_selection import train_test_split\n",
        "from sklearn.ensemble import GradientBoostingClassifier, GradientBoostingRegressor\n",
        "from sklearn.metrics import accuracy_score, r2_score, mean_squared_error"
      ],
      "metadata": {
        "id": "0anbp74Q9IFd"
      },
      "execution_count": null,
      "outputs": []
    },
    {
      "cell_type": "markdown",
      "source": [
        "### Подготовка данных"
      ],
      "metadata": {
        "id": "a9GuOeGq9S-J"
      }
    },
    {
      "cell_type": "code",
      "source": [
        "# Загрузка данных\n",
        "dataset_path = 'spotify_tracks.csv'\n",
        "data = pd.read_csv(dataset_path)\n",
        "\n",
        "# Предобработка данных\n",
        "data = data.dropna()  # Убираем строки с пропущенными значениями\n",
        "\n",
        "# Классификация: предсказание языка трека\n",
        "classification_features = ['danceability', 'energy', 'speechiness', 'acousticness', 'tempo', 'valence', 'liveness']\n",
        "X_classification = data[classification_features]\n",
        "y_classification = data['language']\n",
        "X_train_clf, X_test_clf, y_train_clf, y_test_clf = train_test_split(X_classification, y_classification, test_size=0.2, random_state=42)\n",
        "\n",
        "# Регрессия: предсказание популярности трека\n",
        "regression_features = ['danceability', 'energy', 'speechiness', 'acousticness', 'tempo', 'valence', 'liveness', 'duration_ms']\n",
        "X_regression = data[regression_features]\n",
        "y_regression = data['popularity']\n",
        "X_train_reg, X_test_reg, y_train_reg, y_test_reg = train_test_split(X_regression, y_regression, test_size=0.2, random_state=42)"
      ],
      "metadata": {
        "id": "gA9hfPUF9V7g"
      },
      "execution_count": null,
      "outputs": []
    },
    {
      "cell_type": "markdown",
      "source": [
        "### Классификация="
      ],
      "metadata": {
        "id": "VNLAys24-shY"
      }
    },
    {
      "cell_type": "code",
      "source": [
        "clf = GradientBoostingClassifier()\n",
        "clf.fit(X_train_clf, y_train_clf)\n",
        "y_pred_clf = clf.predict(X_test_clf)\n",
        "classification_accuracy = accuracy_score(y_test_clf, y_pred_clf)\n",
        "print(f\"Classification Accuracy: {classification_accuracy:.4f}\")"
      ],
      "metadata": {
        "id": "hcHbE3yD-t-7",
        "colab": {
          "base_uri": "https://localhost:8080/"
        },
        "outputId": "366c4cf5-0976-4ea4-dbb8-932c4df33f2c"
      },
      "execution_count": 8,
      "outputs": [
        {
          "output_type": "stream",
          "name": "stdout",
          "text": [
            "Classification Accuracy: 0.5152\n"
          ]
        }
      ]
    },
    {
      "cell_type": "markdown",
      "source": [
        "## Регрессия"
      ],
      "metadata": {
        "id": "vXnhZpo--uMf"
      }
    },
    {
      "cell_type": "code",
      "source": [
        "reg = GradientBoostingRegressor()\n",
        "reg.fit(X_train_reg, y_train_reg)\n",
        "y_pred_reg = reg.predict(X_test_reg)\n",
        "regression_r2 = r2_score(y_test_reg, y_pred_reg)\n",
        "regression_mse = mean_squared_error(y_test_reg, y_pred_reg)\n",
        "print(f\"Regression R^2: {regression_r2:.4f}\")\n",
        "print(f\"Regression MSE: {regression_mse:.4f}\")"
      ],
      "metadata": {
        "id": "etwsrGU0-vje",
        "colab": {
          "base_uri": "https://localhost:8080/"
        },
        "outputId": "3698bfbd-d515-4f32-81cc-00de4f9cf2bb"
      },
      "execution_count": 10,
      "outputs": [
        {
          "output_type": "stream",
          "name": "stdout",
          "text": [
            "Regression R^2: 0.1032\n",
            "Regression MSE: 309.5082\n"
          ]
        }
      ]
    },
    {
      "cell_type": "markdown",
      "source": [
        "## Улучшение бейзлайна"
      ],
      "metadata": {
        "id": "o_-KCuSqARa-"
      }
    },
    {
      "cell_type": "markdown",
      "source": [
        "Предобработаем данные"
      ],
      "metadata": {
        "id": "ul1-qxQGArlD"
      }
    },
    {
      "cell_type": "code",
      "source": [
        "data = pd.read_csv(\"spotify_tracks.csv\")\n",
        "\n",
        "# Предобработка данных для классификации\n",
        "classification_features = ['danceability', 'energy', 'speechiness', 'acousticness', 'tempo', 'valence', 'liveness']\n",
        "X_class = data[classification_features]\n",
        "y_class = data['language']\n",
        "\n",
        "# Удаление пропусков\n",
        "X_class = X_class.dropna()\n",
        "y_class = y_class[X_class.index]\n",
        "\n",
        "# Разделение данных на обучающую и тестовую выборки\n",
        "X_train_class, X_test_class, y_train_class, y_test_class = train_test_split(X_class, y_class, test_size=0.2, random_state=42)\n",
        "\n",
        "# Предобработка данных для регрессии\n",
        "regression_features = ['danceability', 'energy', 'speechiness', 'acousticness', 'tempo', 'valence', 'liveness', 'duration_ms']\n",
        "X_reg = data[regression_features]\n",
        "y_reg = data['popularity']\n",
        "\n",
        "# Удаление пропусков\n",
        "X_reg = X_reg.dropna()\n",
        "y_reg = y_reg[X_reg.index]\n",
        "\n",
        "# Разделение данных на обучающую и тестовую выборки\n",
        "X_train_reg, X_test_reg, y_train_reg, y_test_reg = train_test_split(X_reg, y_reg, test_size=0.2, random_state=42)\n"
      ],
      "metadata": {
        "id": "rnW9WbFhAS4l"
      },
      "execution_count": 11,
      "outputs": []
    },
    {
      "cell_type": "code",
      "source": [
        "from sklearn.preprocessing import StandardScaler\n",
        "\n",
        "# Нормализация признаков для классификации\n",
        "scaler_class = StandardScaler()\n",
        "X_class_scaled = scaler_class.fit_transform(X_class)\n",
        "\n",
        "# Нормализация признаков для регрессии\n",
        "scaler_reg = StandardScaler()\n",
        "X_reg_scaled = scaler_reg.fit_transform(X_reg)"
      ],
      "metadata": {
        "id": "cZAoS2nqA83S"
      },
      "execution_count": 13,
      "outputs": []
    },
    {
      "cell_type": "markdown",
      "source": [
        "### Классификация"
      ],
      "metadata": {
        "id": "cMkaiv8FA_5V"
      }
    },
    {
      "cell_type": "code",
      "source": [
        "X_train_class_scaled, X_test_class_scaled, y_train_class, y_test_class = train_test_split(X_class_scaled, y_class, test_size=0.2, random_state=42)\n",
        "clf_scaled = GradientBoostingClassifier(random_state=42)\n",
        "clf_scaled.fit(X_train_class_scaled, y_train_class)\n",
        "y_pred_class_scaled = clf_scaled.predict(X_test_class_scaled)\n",
        "accuracy_scaled = accuracy_score(y_test_class, y_pred_class_scaled)\n",
        "print(f\"Accuracy with Scaling (Classification): {accuracy_scaled:.2f}\")"
      ],
      "metadata": {
        "colab": {
          "base_uri": "https://localhost:8080/"
        },
        "id": "VtbGos0XBB-P",
        "outputId": "0f634a4d-10b5-46ae-cf6c-a51ac9300dd6"
      },
      "execution_count": 14,
      "outputs": [
        {
          "output_type": "stream",
          "name": "stdout",
          "text": [
            "Accuracy with Scaling (Classification): 0.52\n"
          ]
        }
      ]
    },
    {
      "cell_type": "markdown",
      "source": [
        "### Регрессия"
      ],
      "metadata": {
        "id": "fvHqjO8SBCOf"
      }
    },
    {
      "cell_type": "code",
      "source": [
        "X_train_reg_scaled, X_test_reg_scaled, y_train_reg, y_test_reg = train_test_split(X_reg_scaled, y_reg, test_size=0.2, random_state=42)\n",
        "reg_scaled = GradientBoostingRegressor(random_state=42)\n",
        "reg_scaled.fit(X_train_reg_scaled, y_train_reg)\n",
        "y_pred_reg_scaled = reg_scaled.predict(X_test_reg_scaled)\n",
        "r2_scaled = r2_score(y_test_reg, y_pred_reg_scaled)\n",
        "mse_scaled = mean_squared_error(y_test_reg, y_pred_reg_scaled)\n",
        "print(f\"R^2 with Scaling (Regression): {r2_scaled:.2f}\")\n",
        "print(f\"MSE with Scaling (Regression): {mse_scaled:.2f}\")"
      ],
      "metadata": {
        "colab": {
          "base_uri": "https://localhost:8080/"
        },
        "id": "zMAOGM0QBFVr",
        "outputId": "d30d0deb-2236-43e5-ba5a-05f85171f332"
      },
      "execution_count": 15,
      "outputs": [
        {
          "output_type": "stream",
          "name": "stdout",
          "text": [
            "R^2 with Scaling (Regression): 0.10\n",
            "MSE with Scaling (Regression): 309.51\n"
          ]
        }
      ]
    },
    {
      "cell_type": "markdown",
      "source": [
        "## Сравнение и выводы"
      ],
      "metadata": {
        "id": "4sLV2VdmDNMB"
      }
    },
    {
      "cell_type": "markdown",
      "source": [
        "Классификация (Accuracy):\n",
        "\n",
        "- Базовый бейзлайн (без улучшений): 0.5152\n",
        "- Улучшенный бейзлайн (с масштабированием): 0.52\n",
        "\n",
        "Вывод: Улучшенный бейзлайн показал небольшое повышение точности классификации. Это говорит о том, что масштабирование данных слегка улучшило способность модели различать классы.\n",
        "\n",
        "Регрессия (R²):\n",
        "\n",
        "- Базовый бейзлайн (без улучшений): 0.1032\n",
        "- Улучшенный бейзлайн (с масштабированием): 0.10\n",
        "\n",
        "Вывод: R² для улучшенного бейзлайна немного снизился. Это может быть связано с тем, что масштабирование данных незначительно ухудшило соответствие предсказаний модели реальным данным.\n",
        "\n",
        "Регрессия (MSE):\n",
        "\n",
        "- Базовый бейзлайн (без улучшений): 309.5082\n",
        "- Улучшенный бейзлайн (с масштабированием): 309.51\n",
        "\n",
        "Вывод: MSE практически не изменился, что свидетельствует о минимальном влиянии масштабирования на точность модели регрессии."
      ],
      "metadata": {
        "id": "Y5BgvH1vDPZI"
      }
    },
    {
      "cell_type": "markdown",
      "source": [
        "## Имплементация алгоритма машинного обучения"
      ],
      "metadata": {
        "id": "xlcEXMgmD4DG"
      }
    },
    {
      "cell_type": "code",
      "source": [
        "import numpy as np\n",
        "from sklearn.tree import DecisionTreeRegressor\n",
        "from sklearn.metrics import accuracy_score, r2_score, mean_squared_error\n",
        "\n",
        "class GradientBoostingRegressor:\n",
        "    def __init__(self, n_estimators=100, learning_rate=0.1, max_depth=3):\n",
        "        self.n_estimators = n_estimators\n",
        "        self.learning_rate = learning_rate\n",
        "        self.max_depth = max_depth\n",
        "        self.models = []\n",
        "\n",
        "    def fit(self, X, y):\n",
        "        y_pred = np.full(y.shape, y.mean())\n",
        "        self.models = []\n",
        "\n",
        "        for _ in range(self.n_estimators):\n",
        "            residuals = y - y_pred\n",
        "            tree = DecisionTreeRegressor(max_depth=self.max_depth)\n",
        "            tree.fit(X, residuals)\n",
        "            self.models.append(tree)\n",
        "            y_pred += self.learning_rate * tree.predict(X)\n",
        "\n",
        "    def predict(self, X):\n",
        "        y_pred = np.zeros(X.shape[0])\n",
        "        for tree in self.models:\n",
        "            y_pred += self.learning_rate * tree.predict(X)\n",
        "        return y_pred\n",
        "\n",
        "\n",
        "class GradientBoostingClassifier(GradientBoostingRegressor):\n",
        "    def fit(self, X, y):\n",
        "        y_mean = np.clip(np.mean(y), 1e-15, 1 - 1e-15)\n",
        "        y_pred = np.full(y.shape, np.log(y_mean / (1 - y_mean)))\n",
        "        self.models = []\n",
        "\n",
        "        for _ in range(self.n_estimators):\n",
        "            residuals = y - 1 / (1 + np.exp(-y_pred))\n",
        "            tree = DecisionTreeRegressor(max_depth=self.max_depth)\n",
        "            tree.fit(X, residuals)\n",
        "            self.models.append(tree)\n",
        "            y_pred += self.learning_rate * tree.predict(X)\n",
        "\n",
        "    def predict(self, X):\n",
        "        logits = super().predict(X)\n",
        "        return (1 / (1 + np.exp(-logits)) > 0.5).astype(int)"
      ],
      "metadata": {
        "id": "Za8l7BOuDPBP"
      },
      "execution_count": 19,
      "outputs": []
    },
    {
      "cell_type": "markdown",
      "source": [
        "### Классификация"
      ],
      "metadata": {
        "id": "3aG5yO_HEDm3"
      }
    },
    {
      "cell_type": "code",
      "source": [
        "# Масштабирование данных\n",
        "scaler_class = StandardScaler()\n",
        "X_class_scaled = scaler_class.fit_transform(X_class)\n",
        "\n",
        "scaler_reg = StandardScaler()\n",
        "X_reg_scaled = scaler_reg.fit_transform(X_reg)\n",
        "\n",
        "# Разделение данных для классификации\n",
        "X_train_class_scaled, X_test_class_scaled, y_train_class, y_test_class = train_test_split(\n",
        "    X_class_scaled, y_class, test_size=0.2, random_state=42\n",
        ")\n",
        "\n",
        "# Разделение данных для регрессии\n",
        "X_train_reg_scaled, X_test_reg_scaled, y_train_reg, y_test_reg = train_test_split(\n",
        "    X_reg_scaled, y_reg, test_size=0.2, random_state=42\n",
        ")"
      ],
      "metadata": {
        "id": "9Crrn2tMFKZh"
      },
      "execution_count": 26,
      "outputs": []
    },
    {
      "cell_type": "code",
      "source": [
        "gbc_custom = GradientBoostingClassifier(n_estimators=50, learning_rate=0.1, max_depth=3)\n",
        "gbc_custom.fit(X_train_class, y_train_class)\n",
        "y_pred_class_custom = gbc_custom.predict(X_test_class)\n",
        "accuracy_custom = accuracy_score(y_test_class, y_pred_class_custom)\n",
        "print(f\"Accuracy (Custom Gradient Boosting, Classification): {accuracy_custom:.2f}\")"
      ],
      "metadata": {
        "colab": {
          "base_uri": "https://localhost:8080/"
        },
        "id": "Tfh8o9ghEFBw",
        "outputId": "5ec278b4-4782-4ca4-a863-7714cf6fea2b"
      },
      "execution_count": 23,
      "outputs": [
        {
          "output_type": "stream",
          "name": "stdout",
          "text": [
            "Accuracy (Custom Gradient Boosting, Classification): 0.15\n"
          ]
        }
      ]
    },
    {
      "cell_type": "markdown",
      "source": [
        "### Регрессия"
      ],
      "metadata": {
        "id": "E54onU6qEFUt"
      }
    },
    {
      "cell_type": "code",
      "source": [
        "gbr_custom = GradientBoostingRegressor(n_estimators=50, learning_rate=0.1, max_depth=3)\n",
        "gbr_custom.fit(X_train_reg, y_train_reg)\n",
        "y_pred_reg_custom = gbr_custom.predict(X_test_reg)\n",
        "r2_custom = r2_score(y_test_reg, y_pred_reg_custom)\n",
        "mse_custom = mean_squared_error(y_test_reg, y_pred_reg_custom)\n",
        "print(f\"R^2 (Custom Gradient Boosting, Regression): {r2_custom:.2f}\")\n",
        "print(f\"MSE (Custom Gradient Boosting, Regression): {mse_custom:.2f}\")"
      ],
      "metadata": {
        "colab": {
          "base_uri": "https://localhost:8080/"
        },
        "id": "I2CDik3tEIkt",
        "outputId": "0ee2da2a-b03e-4616-c313-d6dc4b8362b7"
      },
      "execution_count": 21,
      "outputs": [
        {
          "output_type": "stream",
          "name": "stdout",
          "text": [
            "R^2 (Custom Gradient Boosting, Regression): -0.59\n",
            "MSE (Custom Gradient Boosting, Regression): 550.42\n"
          ]
        }
      ]
    },
    {
      "cell_type": "markdown",
      "source": [
        "Классификация:\n",
        "\n",
        "- Accuracy (Custom Gradient Boosting): 0.15\n",
        "- Accuracy (sklearn GradientBoostingClassifier): 0.5152\n",
        "\n",
        "Вывод:\n",
        "Качество классификации у собственной реализации градиентного бустинга значительно ниже по сравнению с моделью из sklearn. Это может указывать на ошибки в реализации, такие как недостаточная оптимизация деревьев, неправильный расчет функции потерь или другие технические недочеты.\n",
        "\n",
        "Регрессия:\n",
        "\n",
        "- R² (Custom Gradient Boosting): -0.59\n",
        "- R² (sklearn GradientBoostingRegressor): 0.1032\n",
        "- MSE (Custom Gradient Boosting): 550.42\n",
        "- MSE (sklearn GradientBoostingRegressor): 309.5082\n",
        "\n",
        "Вывод:\n",
        "Качество регрессии у собственной реализации также значительно хуже. Отрицательное значение R^2 говорит о том, что модель хуже предсказывает результаты, чем простое усреднение значений. Значение MSE в 1.8 раза выше у собственной реализации, что подтверждает плохую точность модели."
      ],
      "metadata": {
        "id": "cclukJLQFq_e"
      }
    },
    {
      "cell_type": "markdown",
      "source": [
        "## Улучшение бейзлайна"
      ],
      "metadata": {
        "id": "byOi_n7vGGOH"
      }
    },
    {
      "cell_type": "code",
      "source": [
        "scaler_class = StandardScaler()\n",
        "X_class_scaled = scaler_class.fit_transform(X_class)\n",
        "\n",
        "scaler_reg = StandardScaler()\n",
        "X_reg_scaled = scaler_reg.fit_transform(X_reg)\n",
        "\n",
        "# Разделение данных для классификации\n",
        "X_train_class_scaled, X_test_class_scaled, y_train_class, y_test_class = train_test_split(\n",
        "    X_class_scaled, y_class, test_size=0.2, random_state=42\n",
        ")\n",
        "\n",
        "# Разделение данных для регрессии\n",
        "X_train_reg_scaled, X_test_reg_scaled, y_train_reg, y_test_reg = train_test_split(\n",
        "    X_reg_scaled, y_reg, test_size=0.2, random_state=42\n",
        ")\n"
      ],
      "metadata": {
        "id": "LAZOdMm8GPdh"
      },
      "execution_count": null,
      "outputs": []
    },
    {
      "cell_type": "markdown",
      "source": [
        "### Классификация"
      ],
      "metadata": {
        "id": "BpQ1b8TBGYIS"
      }
    },
    {
      "cell_type": "code",
      "source": [
        "custom_gb_class_scaled = GradientBoostingClassifier(n_estimators=10, learning_rate=0.1, max_depth=3)\n",
        "custom_gb_class_scaled.fit(X_train_class_scaled, y_train_class)\n",
        "y_pred_class_custom_scaled = custom_gb_class_scaled.predict(X_test_class_scaled)\n",
        "accuracy_custom_scaled = accuracy_score(y_test_class, y_pred_class_custom_scaled)\n",
        "print(f\"Accuracy (Custom Gradient Boosting with Scaling, Classification): {accuracy_custom_scaled:.2f}\")"
      ],
      "metadata": {
        "colab": {
          "base_uri": "https://localhost:8080/"
        },
        "id": "GghVc59EGdeI",
        "outputId": "0c33f34c-fd72-4089-c235-c93ebf7a6c7e"
      },
      "execution_count": 27,
      "outputs": [
        {
          "output_type": "stream",
          "name": "stdout",
          "text": [
            "Accuracy (Custom Gradient Boosting with Scaling, Classification): 0.15\n"
          ]
        }
      ]
    },
    {
      "cell_type": "code",
      "source": [
        "custom_gb_reg_scaled = GradientBoostingRegressor(n_estimators=10, learning_rate=0.1, max_depth=3)\n",
        "custom_gb_reg_scaled.fit(X_train_reg_scaled, y_train_reg)\n",
        "y_pred_reg_custom_scaled = custom_gb_reg_scaled.predict(X_test_reg_scaled)\n",
        "r2_custom_scaled = r2_score(y_test_reg, y_pred_reg_custom_scaled)\n",
        "mse_custom_scaled = mean_squared_error(y_test_reg, y_pred_reg_custom_scaled)\n",
        "print(f\"R^2 (Custom Gradient Boosting with Scaling, Regression): {r2_custom_scaled:.2f}\")\n",
        "print(f\"MSE (Custom Gradient Boosting with Scaling, Regression): {mse_custom_scaled:.2f}\")"
      ],
      "metadata": {
        "colab": {
          "base_uri": "https://localhost:8080/"
        },
        "id": "7GSkNV-jG9AQ",
        "outputId": "03a2a311-b8c2-44dd-d3a6-8dd86b3efd67"
      },
      "execution_count": 28,
      "outputs": [
        {
          "output_type": "stream",
          "name": "stdout",
          "text": [
            "R^2 (Custom Gradient Boosting with Scaling, Regression): -0.63\n",
            "MSE (Custom Gradient Boosting with Scaling, Regression): 562.15\n"
          ]
        }
      ]
    },
    {
      "cell_type": "markdown",
      "source": [
        "## Сравнение и вывод"
      ],
      "metadata": {
        "id": "QZjzK2JSH4HK"
      }
    },
    {
      "cell_type": "markdown",
      "source": [
        "Классификация (Accuracy):\n",
        "\n",
        "- Обычная версия: 0.15\n",
        "- Улучшенный бейзлайн: 0.52\n",
        "\n",
        "Вывод: После применения улучшений точность классификации значительно улучшилась. Это указывает на то, что оптимизация гиперпараметров или масштабирование данных помогли улучшить способность модели правильно классифицировать объекты.\n",
        "\n",
        "Регрессия (MSE и R²):\n",
        "\n",
        "1. Mean Squared Error (MSE):\n",
        "\n",
        "- Обычная версия: 562.15\n",
        "- Улучшенный бейзлайн: 309.51\n",
        "\n",
        "Вывод: MSE улучшился после применения улучшений, что указывает на более точные предсказания в модели. Меньшее значение MSE означает, что ошибка прогноза уменьшилась, и модель стала более точной.\n",
        "\n",
        "2. R² Score:\n",
        "\n",
        "- Обычная версия: -0.63\n",
        "- Улучшенный бейзлайн: 0.10\n",
        "\n",
        "Вывод: Улучшение бейзлайна значительно повысило R², хоть и не до положительных значений. Это говорит о том, что улучшения помогли модели лучше объяснять вариативность данных, хотя еще остается пространство для дальнейшего улучшения."
      ],
      "metadata": {
        "id": "qvgazcYkH3qJ"
      }
    }
  ]
}